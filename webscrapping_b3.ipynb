{
 "cells": [
  {
   "cell_type": "markdown",
   "id": "3e96e8f6-e8c1-4a4d-b17d-8c4080c19c4b",
   "metadata": {},
   "source": [
    "# Introdução\n",
    "\n",
    "A obtenção de dados em formato CSV por meio de páginas web representa uma etapa crucial em projetos que demandam informações estruturadas para análises e tomada de decisão. Quando tais dados estão disponíveis apenas em plataformas online, sem acesso direto por APIs, técnicas de **web scraping** emergem como soluções eficazes para sua extração.\n",
    "\n",
    "Neste contexto, a biblioteca **Selenium** é amplamente utilizada devido à sua capacidade de simular ações humanas em navegadores, como cliques, preenchimento de formulários e navegação entre páginas. Essa funcionalidade torna o Selenium uma ferramenta ideal para processos que envolvam múltiplas interações e a execução de etapas necessárias para acessar arquivos CSV disponibilizados online.\n",
    "\n",
    "O presente trabalho tem como foco o uso do Selenium para automatizar o processo de download de arquivos CSV a partir de páginas web que demandam interações sequenciais. A abordagem contempla:\n",
    "\n",
    "- **Preparação do ambiente e configuração do Selenium:** Estabelecendo os recursos necessários para o funcionamento da automação.\n",
    "- **Identificação e manipulação de elementos web:** Técnicas para localizar e interagir com componentes como botões de download, menus suspensos e caixas de seleção.\n",
    "- **Automatização do fluxo de extração:** Implementação de um processo iterativo e eficiente para acessar e baixar os arquivos CSV desejados.\n",
    "- **Organização dos arquivos baixados:** Estratégias para sistematizar o armazenamento e facilitar o uso dos dados em etapas posteriores.\n",
    "\n",
    "A relevância deste estudo está na aplicação prática do Selenium para superar barreiras frequentemente impostas por páginas dinâmicas ou interativas, oferecendo um método eficiente para a coleta de grandes volumes de dados. O trabalho, além de abordar aspectos técnicos, também enfatiza boas práticas no desenvolvimento de fluxos automatizados de web scraping.\n",
    "\n",
    "Com esta abordagem, espera-se fornecer aos leitores uma visão clara das etapas necessárias para realizar o download automatizado de arquivos CSV, contribuindo para a execução de projetos baseados em dados extraídos da web de forma acessível e sistemática.\n"
   ]
  },
  {
   "cell_type": "markdown",
   "id": "565d8f51-2013-4bfd-951c-7c4128b3001a",
   "metadata": {
    "jp-MarkdownHeadingCollapsed": true
   },
   "source": [
    "## Bibliotecas Utilizadas\n",
    "\n",
    "Para a execução do projeto, utilizamos um conjunto de bibliotecas que oferecem suporte às funcionalidades necessárias, com destaque para a automação de navegadores, manipulação de dados e organização do fluxo de trabalho. Abaixo estão as bibliotecas empregadas e suas respectivas finalidades:\n",
    "\n",
    "---\n",
    "\n",
    "### **1. Selenium**\n",
    "- **Descrição:** Biblioteca principal para automação de navegadores. Utilizada para realizar o web scraping, permitindo interações dinâmicas com páginas web.\n",
    "- **Instalação:**\n",
    "  ```bash\n",
    "  pip install selenium\n",
    "\n",
    "### **2. Pandas**\n",
    "- **Descrição:** Biblioteca para manipulação e análise de dados, amplamente utilizada no processamento de informações estruturadas.\n",
    "- **Instalação:**\n",
    "  ```bash\n",
    "  import pandas as pd\n"
   ]
  },
  {
   "cell_type": "code",
   "execution_count": 1,
   "id": "77bc842b-93e0-4df1-9888-49fd0aa9a180",
   "metadata": {},
   "outputs": [
    {
     "name": "stdout",
     "output_type": "stream",
     "text": [
      "Requirement already satisfied: pip in c:\\users\\caio tascano\\appdata\\local\\programs\\python\\python313\\lib\\site-packages (24.3.1)\n"
     ]
    }
   ],
   "source": [
    "!python -m pip install --upgrade pip\n",
    "!pip install -q selenium"
   ]
  },
  {
   "cell_type": "code",
   "execution_count": 2,
   "id": "5bcfa01f-b1e8-42da-83ce-3877cbf49251",
   "metadata": {},
   "outputs": [],
   "source": [
    "import pandas as pd\n",
    "import numpy as np\n",
    "import os"
   ]
  },
  {
   "cell_type": "code",
   "execution_count": 3,
   "id": "fc443f3a-e341-4b0d-a19f-8f1d7817e19c",
   "metadata": {},
   "outputs": [],
   "source": [
    "from selenium import webdriver\n",
    "from selenium.webdriver.chrome.service import Service\n",
    "from selenium.webdriver.common.by import By"
   ]
  },
  {
   "cell_type": "markdown",
   "id": "56656955-4a9c-4a89-aff9-963f3456d895",
   "metadata": {
    "jp-MarkdownHeadingCollapsed": true
   },
   "source": [
    "## Funções Selenium:\n",
    "---\n",
    "### **1. `Service()`**\n",
    "- **Função:** Inicializa um objeto `Service`, que gerencia o processo do ChromeDriver.\n",
    "- **Uso:** O `Service` é utilizado para fornecer o caminho para o driver do Chrome, necessário para que o Selenium possa controlar o navegador.\n",
    "\n",
    "---\n",
    "### **2. `webdriver.ChromeOptions()`**\n",
    "- **Função:** Cria um objeto `ChromeOptions`, que permite configurar opções adicionais para o navegador Chrome, como abrir em modo headless (sem interface gráfica), desabilitar extensões, entre outras.\n",
    "- **Uso:** As opções são passadas ao `webdriver.Chrome()` para customizar o comportamento do navegador durante a automação.\n",
    "\n",
    "---\n",
    "### **3. `webdriver.Chrome()`**\n",
    "- **Função:** Inicializa o driver do Chrome, utilizando o `Service` e as `options` configuradas.\n",
    "- **Uso:** A linha cria uma instância do navegador Chrome com as configurações personalizadas (como o caminho do ChromeDriver e as opções de configuração do navegador).\n",
    "\n",
    "---\n",
    "### **4. `find_element()` e `find_elements()`**\n",
    "- **Descrição:** São funções utilizadas para localizar elementos no DOM da página.\n",
    "- **Diferencial:**\n",
    "  - `find_element`: Retorna o primeiro elemento correspondente ao critério de busca.\n",
    "  - `find_elements`: Retorna uma lista com todos os elementos correspondentes ao critério de busca.\n",
    "- **Aplicações:** Localizar botões, campos de texto, links e outros componentes da página.\n",
    "- **Exemplo:**\n",
    "  ```python\n",
    "  driver.find_element(By.ID, \"submit-button\")\n",
    "  driver.find_elements(By.CLASS_NAME, \"result-item\n",
    "\n",
    "---\n",
    "### **5. `get()`**\n",
    "- **Descrição:** O método `get()` é utilizado para navegar até uma URL específica no navegador automatizado, carregando a página solicitada.\n",
    "- **Uso:** Serve para acessar uma página web. O Selenium abrirá o navegador e aguardará até que a página seja completamente carregada antes de prosseguir com outras ações.\n",
    "- **Sintaxe:**\n",
    "  ```python\n",
    "  driver.get(\"URL\")\n",
    "\n",
    "---\n",
    "### **6. `click()`**\n",
    "- **Descrição:** O método `click()` é utilizado para simular o clique de um usuário em um elemento da página, como um botão ou link.\n",
    "- **Uso:** Permite interagir com elementos clicáveis na página, acionando eventos como submissões de formulários, navegação entre páginas ou ativação de menus.\n",
    "- **Sintaxe:**\n",
    "  ```python\n",
    "  elemento.click()"
   ]
  },
  {
   "cell_type": "code",
   "execution_count": 90,
   "id": "b6062ef3-5d9e-4cee-812f-14b168f3e436",
   "metadata": {},
   "outputs": [],
   "source": [
    "service = Service()\n",
    "\n",
    "options = webdriver.ChromeOptions()\n",
    "\n",
    "driver = webdriver.Chrome(service=service, options=options)"
   ]
  },
  {
   "cell_type": "markdown",
   "id": "28d5767d-8c8a-4f18-a707-81361b6949d6",
   "metadata": {},
   "source": [
    "## Funções Def\n",
    "\n",
    "---"
   ]
  },
  {
   "cell_type": "markdown",
   "id": "eb4a3bb5-4853-49b7-adbc-a621fcb9bde4",
   "metadata": {
    "jp-MarkdownHeadingCollapsed": true
   },
   "source": [
    "### Indicadores CSV"
   ]
  },
  {
   "cell_type": "code",
   "execution_count": 139,
   "id": "6f20e4b8-4fd4-453c-83ae-97f90c5b6d13",
   "metadata": {},
   "outputs": [],
   "source": [
    "## 1_ baixar os indicadores\n",
    "baixar_indicadores(acoes_ifnc) ## coloque a lista desejada"
   ]
  },
  {
   "cell_type": "code",
   "execution_count": 140,
   "id": "775a205c-9f4c-490e-8fd0-086d0010cbb4",
   "metadata": {},
   "outputs": [],
   "source": [
    "## 2_ Renomeia os indicadores\n",
    "renomear_indicadores(acoes_ifnc) ## coloque a lista desejada"
   ]
  },
  {
   "cell_type": "markdown",
   "id": "62160f52-e1ea-4279-82f7-9d4c2f42e077",
   "metadata": {
    "jp-MarkdownHeadingCollapsed": true
   },
   "source": [
    "### Def indicadores"
   ]
  },
  {
   "cell_type": "code",
   "execution_count": 138,
   "id": "fe049958-522e-48db-a0dc-48359df01825",
   "metadata": {},
   "outputs": [],
   "source": [
    "##Renomeando CSV de Indicadores\n",
    "def renomear_indicadores(x):\n",
    "    caminho = r'C:\\Users\\Caio Tascano\\Downloads'  # Caminho da pasta\n",
    "\n",
    "    # Nome do arquivo original\n",
    "    arquivo_original = 'indicadores.csv'\n",
    "    novo_nome = x[0] + '_indicadores.csv'\n",
    "\n",
    "    caminho_antigo = os.path.join(caminho, arquivo_original)\n",
    "    caminho_novo = os.path.join(caminho, novo_nome)\n",
    "\n",
    "    os.rename(caminho_antigo, caminho_novo)\n",
    "\n",
    "    # Iterando sobre a lista x\n",
    "    for i in range(1, len(x)):\n",
    "        # Nome do arquivo com base no índice\n",
    "        arquivo = f'indicadores ({i}).csv'  # Nome do arquivo original\n",
    "        \n",
    "        # Novo nome baseado na lista\n",
    "        novo_nome = x[i] + '_indicadores.csv'  # Novo nome da lista\n",
    "        \n",
    "        # Caminho completo dos arquivos antigos e novos\n",
    "        caminho_antigo = os.path.join(caminho, arquivo)\n",
    "        caminho_novo = os.path.join(caminho, novo_nome)\n",
    "        \n",
    "        # Renomeando o arquivo\n",
    "        os.rename(caminho_antigo, caminho_novo)\n",
    "\n",
    "##Baixando CSV de Indicadores\n",
    "def baixar_indicadores(x):\n",
    "    for codigos in x:\n",
    "        url = f'https://www.dadosdemercado.com.br/acoes/{codigos}' ## url da página\n",
    "        driver.get(url)\n",
    "        botao_csv = driver.find_elements(By.XPATH, \"//span[text()='Baixar em .csv']\") ## Guardando localizando dos botões da página \n",
    "        botao_csv[0].click()"
   ]
  },
  {
   "cell_type": "markdown",
   "id": "0732944d-9354-4320-a204-4727efea7dae",
   "metadata": {},
   "source": [
    "---\n",
    "\n",
    "### Resultados CSV"
   ]
  },
  {
   "cell_type": "code",
   "execution_count": 152,
   "id": "7bc9768f-e485-400c-8d12-441863d8f1ae",
   "metadata": {},
   "outputs": [],
   "source": [
    "## 1_ baixar os resultados\n",
    "baixar_resultados(acoes_ifnc) ## coloque a lista desejada"
   ]
  },
  {
   "cell_type": "code",
   "execution_count": 153,
   "id": "6a77e7bf-ad55-4470-9534-5fe78e90ac9f",
   "metadata": {},
   "outputs": [],
   "source": [
    "## 2_ Renomeia os resultados\n",
    "renomear_resultados(acoes_ifnc) ## coloque a lista desejada"
   ]
  },
  {
   "cell_type": "markdown",
   "id": "eedc3a34-9896-4f7e-84c4-475fbeed01dd",
   "metadata": {},
   "source": [
    "### Def resultados"
   ]
  },
  {
   "cell_type": "code",
   "execution_count": 150,
   "id": "fa2eced2-1bdc-4cd7-943f-f787d76d7c29",
   "metadata": {},
   "outputs": [],
   "source": [
    "##Renomeando CSV de Indicadores\n",
    "def renomear_resultados(x):\n",
    "    caminho = r'C:\\Users\\Caio Tascano\\Downloads'  # Caminho da pasta\n",
    "\n",
    "    # Nome do arquivo original\n",
    "    arquivo_original = 'resultados.csv'\n",
    "    novo_nome = x[0] + '_resultados.csv'\n",
    "\n",
    "    caminho_antigo = os.path.join(caminho, arquivo_original)\n",
    "    caminho_novo = os.path.join(caminho, novo_nome)\n",
    "\n",
    "    os.rename(caminho_antigo, caminho_novo)\n",
    "\n",
    "    # Iterando sobre a lista x\n",
    "    for i in range(1, len(x)):\n",
    "        # Nome do arquivo com base no índice\n",
    "        arquivo = f'resultados ({i}).csv'  # Nome do arquivo original\n",
    "        \n",
    "        # Novo nome baseado na lista\n",
    "        novo_nome = x[i] + '_resultados.csv'  # Novo nome da lista\n",
    "        \n",
    "        # Caminho completo dos arquivos antigos e novos\n",
    "        caminho_antigo = os.path.join(caminho, arquivo)\n",
    "        caminho_novo = os.path.join(caminho, novo_nome)\n",
    "        \n",
    "        # Renomeando o arquivo\n",
    "        os.rename(caminho_antigo, caminho_novo)\n",
    "\n",
    "##Baixando CSV de Indicadores\n",
    "def baixar_resultados(x):\n",
    "    for codigos in x:\n",
    "        url = f'https://www.dadosdemercado.com.br/acoes/{codigos}' ## url da página\n",
    "        driver.get(url)\n",
    "        botao_csv = driver.find_elements(By.XPATH, \"//span[text()='Baixar em .csv']\") ## Guardando localizando dos botões da página \n",
    "        botao_csv[2].click()"
   ]
  },
  {
   "cell_type": "markdown",
   "id": "fefa5722-f91b-4a4a-9e92-9eb662c45e8a",
   "metadata": {},
   "source": [
    "---\n",
    "\n",
    "### Dividendos CSV"
   ]
  },
  {
   "cell_type": "code",
   "execution_count": null,
   "id": "405fb2d7-48b9-4323-9f4c-0d31091a253c",
   "metadata": {},
   "outputs": [],
   "source": [
    "## 1_ baixar os dividendos\n",
    "baixar_dividendos(acoes_ifnc) ## coloque a lista desejada"
   ]
  },
  {
   "cell_type": "code",
   "execution_count": null,
   "id": "37bd99cd-800d-45d7-86e3-a15ffd73932d",
   "metadata": {},
   "outputs": [],
   "source": [
    "## 2_ Renomeia os resultados\n",
    "renomear_resultados(acoes_ifnc) ## coloque a lista desejada"
   ]
  },
  {
   "cell_type": "markdown",
   "id": "40a91143-179c-4a21-8d1c-ec0441bf17cc",
   "metadata": {},
   "source": [
    "### Def dividendos"
   ]
  },
  {
   "cell_type": "code",
   "execution_count": null,
   "id": "2b2fc50d-cbba-47fa-ac1a-9cd2012dcac1",
   "metadata": {},
   "outputs": [],
   "source": [
    "##Renomeando CSV de Indicadores\n",
    "def renomear_resultados(x):\n",
    "    caminho = r'C:\\Users\\Caio Tascano\\Downloads'  # Caminho da pasta\n",
    "\n",
    "    # Nome do arquivo original\n",
    "    arquivo_original = 'resultados.csv'\n",
    "    novo_nome = x[0] + '_resultados.csv'\n",
    "\n",
    "    caminho_antigo = os.path.join(caminho, arquivo_original)\n",
    "    caminho_novo = os.path.join(caminho, novo_nome)\n",
    "\n",
    "    os.rename(caminho_antigo, caminho_novo)\n",
    "\n",
    "    # Iterando sobre a lista x\n",
    "    for i in range(1, len(x)):\n",
    "        # Nome do arquivo com base no índice\n",
    "        arquivo = f'resultados ({i}).csv'  # Nome do arquivo original\n",
    "        \n",
    "        # Novo nome baseado na lista\n",
    "        novo_nome = x[i] + '_resultados.csv'  # Novo nome da lista\n",
    "        \n",
    "        # Caminho completo dos arquivos antigos e novos\n",
    "        caminho_antigo = os.path.join(caminho, arquivo)\n",
    "        caminho_novo = os.path.join(caminho, novo_nome)\n",
    "        \n",
    "        # Renomeando o arquivo\n",
    "        os.rename(caminho_antigo, caminho_novo)\n",
    "\n",
    "##Baixando CSV de Indicadores\n",
    "def baixar_resultados(x):\n",
    "    for codigos in x:\n",
    "        url = f'https://www.dadosdemercado.com.br/acoes/{codigos}/dividendos' ## url da página\n",
    "        driver.get(url)\n",
    "        botao_csv = driver.find_elements(By.XPATH, \"//span[text()='Baixar em .csv']\") ## Guardando localizando dos botões da página \n",
    "        botao_csv[2].click()"
   ]
  },
  {
   "cell_type": "markdown",
   "id": "96b08480-a52f-4319-bca4-6e1ee74d8f70",
   "metadata": {
    "jp-MarkdownHeadingCollapsed": true
   },
   "source": [
    "## Listas com códigos das empresas:\n",
    "\n",
    "---"
   ]
  },
  {
   "cell_type": "code",
   "execution_count": 10,
   "id": "d1584a9c",
   "metadata": {},
   "outputs": [],
   "source": [
    "## Todas os códigos\n",
    "todos_codigos = acoes_ifnc + acoes_iee + acoes_saneamento + acoes_imat + acoes_imat + acoes_agro"
   ]
  },
  {
   "cell_type": "markdown",
   "id": "5909212d-6c00-4153-9a69-fc823d27f967",
   "metadata": {
    "jp-MarkdownHeadingCollapsed": true
   },
   "source": [
    "### IFNC: Empresas financeiras "
   ]
  },
  {
   "cell_type": "code",
   "execution_count": 4,
   "id": "a9cf0cb4-f34b-4365-80ab-c76d4fa71730",
   "metadata": {},
   "outputs": [],
   "source": [
    "## lista criada pela IA Gemini -Financeiras\n",
    "acoes_ifnc = [\n",
    "    \"ABCB4\",  # Banco ABC Brasil\n",
    "    \"B3SA3\",  # B3\n",
    "    \"BBAS3\",  # Banco do Brasil\n",
    "    \"BBDC3\",  # Bradesco\n",
    "    \"BBDC4\",  # Bradesco\n",
    "    \"BBSE3\",  # BB Seguridade\n",
    "    \"BMGB4\",  # Banco BMG\n",
    "    \"BPAC11\", # BTG Pactual\n",
    "    \"BPAN4\",  # Banco Pan\n",
    "    \"BRSR6\", # Banrisul\n",
    "    \"ITSA4\",  # Itaúsa\n",
    "    \"ITUB3\",  # Itaú Unibanco\n",
    "    \"ITUB4\",  # Itaú Unibanco\n",
    "    \"SANB11\", # Santander Brasil\n",
    "    \"PSSA3\", # Porto Seguro\n",
    "    \"CIEL3\", # Cielo - *Pode ou não estar presente, verificar atualização*\n",
    "    \"IRBR3\", # IRB Brasil RE - *Pode ou não estar presente, verificar atualização*\n",
    "]"
   ]
  },
  {
   "cell_type": "markdown",
   "id": "476eb342-8dcb-4586-b432-071f94d316f3",
   "metadata": {
    "jp-MarkdownHeadingCollapsed": true
   },
   "source": [
    "### IEE: Empresas do setor eletrico"
   ]
  },
  {
   "cell_type": "code",
   "execution_count": 5,
   "id": "afc0dff0-2ce1-4b82-a63f-62475154ae50",
   "metadata": {},
   "outputs": [],
   "source": [
    "acoes_iee = [\n",
    "    \"AURE3\",  # Auren Energia\n",
    "    \"CEEB3\", # CEEE-GT\n",
    "    \"CEEB5\", # CEEE-GT\n",
    "    \"CLSC3\",  # Celesc\n",
    "    \"CMIG3\",  # Cemig\n",
    "    \"CMIG4\",  # Cemig\n",
    "    \"CPFE3\",  # CPFL Energia\n",
    "    \"CPLE3\",  # Copel\n",
    "    \"CPLE6\",  # Copel\n",
    "    \"EGIE3\",  # Engie Brasil\n",
    "    \"ELET3\",  # Eletrobras\n",
    "    \"ELET6\",  # Eletrobras\n",
    "    \"ENBR3\",  # Energias do Brasil (EDP Brasil)\n",
    "    \"EQTL3\",  # Equatorial Energia\n",
    "    \"NEOE3\", # Neoenergia\n",
    "    \"TAEE3\", # Taesa\n",
    "    \"TAEE4\", # Taesa\n",
    "    \"TAEE11\" # Taesa\n",
    "]"
   ]
  },
  {
   "cell_type": "markdown",
   "id": "a7f68e47-8213-4df3-bed1-b29f11081a25",
   "metadata": {
    "jp-MarkdownHeadingCollapsed": true
   },
   "source": [
    "### Saneamento: Empresas do setor de saneamento"
   ]
  },
  {
   "cell_type": "code",
   "execution_count": 6,
   "id": "c3a435c6-693d-4822-9fca-9724a0c97565",
   "metadata": {},
   "outputs": [],
   "source": [
    "acoes_saneamento = [\n",
    "    \"SBSP3\",  # Sabesp\n",
    "    \"SAPR3\",  # Sanepar\n",
    "    \"SAPR4\",  # Sanepar\n",
    "    \"SAPR11\", # Sanepar\n",
    "    \"CSMG3\",  # Copasa\n",
    "    \"AMBP3\",  # Ambipar\n",
    "    \"CASN3\" # Casan\n",
    "]"
   ]
  },
  {
   "cell_type": "markdown",
   "id": "3ce1278d-5699-4587-a7fd-5085e0b1f140",
   "metadata": {
    "jp-MarkdownHeadingCollapsed": true
   },
   "source": [
    "### IMAT - Empresa do setor de materiais"
   ]
  },
  {
   "cell_type": "code",
   "execution_count": 7,
   "id": "2cf17b01-82ae-483f-a8db-9a92de5b677d",
   "metadata": {},
   "outputs": [],
   "source": [
    "acoes_imat = [\n",
    "    \"BRAP3\", # BRADESPAR ON\n",
    "    \"BRAP4\", # BRADESPAR PN\n",
    "    \"BRKM5\", # BRASKEM PNA\n",
    "    \"CSNA3\", # CSN ON\n",
    "    \"GGBR4\", # GERDAU PN\n",
    "    \"GOAU4\", # GERDAU MET PN\n",
    "    \"KLBN11\", # KLABIN S/A UNT\n",
    "    \"USIM5\", # USIMINAS PNA\n",
    "    \"VALE3\", # VALE ON\n",
    "]"
   ]
  },
  {
   "cell_type": "markdown",
   "id": "6169d6ef-cd8a-4f2e-bf2f-ad4809165ad6",
   "metadata": {
    "jp-MarkdownHeadingCollapsed": true
   },
   "source": [
    "### Setor Agro"
   ]
  },
  {
   "cell_type": "code",
   "execution_count": 9,
   "id": "21d77df7-eeb2-4a6e-be7b-7b575fc061a7",
   "metadata": {},
   "outputs": [],
   "source": [
    "acoes_agro = [\n",
    "    \"AGRO3\", # BrasilAgro\n",
    "    \"SLCE3\", # SLC Agrícola\n",
    "    \"SMTO3\", # São Martinho\n",
    "    \"RAIZ4\", # Raízen\n",
    "    \"BEEF3\", # Minerva Foods\n",
    "    \"JBSS3\", # JBS\n",
    "    \"MRFG3\", # Marfrig Global Foods\n",
    "    \"BRFS3\", # BRF\n",
    "    \"TTEN3\", # 3tentos Agroindustrial\n",
    "]"
   ]
  },
  {
   "cell_type": "markdown",
   "id": "f0d5eca3-6827-41b1-a28d-43b4fb5c9e2a",
   "metadata": {
    "jp-MarkdownHeadingCollapsed": true
   },
   "source": [
    "# Tratando Dados\n",
    "\n",
    "---"
   ]
  },
  {
   "cell_type": "markdown",
   "id": "4a229015",
   "metadata": {},
   "source": [
    "## Limpando indicadores"
   ]
  },
  {
   "cell_type": "code",
   "execution_count": null,
   "id": "4dbb9bb8-a63e-4d27-af1e-aa19d9f0ff72",
   "metadata": {},
   "outputs": [],
   "source": [
    "## Caminho salvar\n",
    "caminho_destino= 'C:\\\\Users\\\\Caio Tascano\\\\Desktop\\\\git_hub\\\\estudo_acoes\\\\dados_tratados\\\\indicadores'\n",
    "\n",
    "## Criando DataFrame\n",
    "df_indicadores = pd.DataFrame()\n",
    "\n",
    "## Looping para acessar arquivos e criar variaveis\n",
    "for csv in todos_codigos:\n",
    "    ## Definido caminho no computador\n",
    "    caminho_csv = f'C:\\\\Users\\\\Caio Tascano\\\\Desktop\\\\git_hub\\\\estudo_acoes\\\\indicadores_empresas\\\\{csv}_indicadores.csv'\n",
    "\n",
    "    df_temp = pd.read_csv(caminho_csv)\n",
    "\n",
    "    # Remove espaços em branco\n",
    "    df_temp = df_temp.applymap(\n",
    "        lambda x: x.strip() if isinstance(x, str) else x\n",
    "    )\n",
    "\n",
    "    # Retira pontos de milhares e substitui vírgulas por pontos\n",
    "    df_temp = df_temp.applymap(\n",
    "        lambda x: x.replace('.', '').replace(',', '.') if isinstance(x, str) else x\n",
    "    )\n",
    "\n",
    "    # Substitui '--%' e '--' por ''\n",
    "    df_temp = df_temp.applymap(\n",
    "        lambda x: x.replace('--%', '').replace('--', '') if isinstance(x, str) else x\n",
    "    )\n",
    "\n",
    "    # Retira 'mi' e multiplica por 1_000_000\n",
    "    df_temp = df_temp.applymap(\n",
    "        lambda x: float(x.replace('mi', '').strip()) * 1_000_000 if isinstance(x, str) and 'mi' in x else x\n",
    "    )\n",
    "\n",
    "    # Retira '%' e divide por 100\n",
    "    df_temp = df_temp.applymap(\n",
    "        lambda x: float(x.replace('%', '').strip()) / 100 if isinstance(x, str) and '%' in x else x\n",
    "    )\n",
    "\n",
    "    ## Variaveis globais EX: AGRO3_indicadores\n",
    "    globals()[csv + '_indicadores'] = df_temp ## globals() Atribui variáveis ao espaço global. Dessa forma, cada CSV será carregado em uma variável separada, com o nome da variável sendo o nome do arquivo CSV.\n",
    "\n",
    "    ## Salvando o DataFrame tratado no destino\n",
    "    caminho_saida = f'{caminho_destino}\\\\{csv}_indicadores_tratados.csv'\n",
    "    df_temp.to_csv(caminho_saida, index=False)  # Salva sem o índice adicional no CSV\n"
   ]
  },
  {
   "cell_type": "markdown",
   "id": "4d99fbc8",
   "metadata": {},
   "source": [
    "## Limpando Resultados"
   ]
  },
  {
   "cell_type": "code",
   "execution_count": null,
   "id": "4e3fa58b",
   "metadata": {},
   "outputs": [],
   "source": [
    "## Caminho salvar\n",
    "caminho_destino = 'C:\\\\Users\\\\Caio Tascano\\\\Desktop\\\\git_hub\\\\estudo_acoes\\\\dados_tratados\\\\resultados'\n",
    "\n",
    "for csv in todos_codigos:\n",
    "    ## Definido caminho no computador\n",
    "    caminho_csv = f'C:\\\\Users\\\\Caio Tascano\\\\Desktop\\\\git_hub\\\\estudo_acoes\\\\resultados_empresas\\\\{csv}_resultados.csv'\n",
    "\n",
    "    df_temp = pd.read_csv(caminho_csv)\n",
    "\n",
    "    # Remove espaços em branco\n",
    "    df_temp = df_temp.applymap(\n",
    "        lambda x: x.strip() if isinstance(x, str) else x\n",
    "    )\n",
    "\n",
    "        # Retira pontos de milhares e substitui vírgulas por pontos\n",
    "    df_temp = df_temp.applymap(\n",
    "        lambda x: x.replace('.', '').replace(',', '.') if isinstance(x, str) else x\n",
    "    )\n",
    "\n",
    "        # Substitui '--%' e '--' por ''\n",
    "    df_temp = df_temp.applymap(\n",
    "        lambda x: x.replace('--%', '').replace('--', '') if isinstance(x, str) else x\n",
    "    )\n",
    "\n",
    "    # Retira 'Mil' e multiplica por 1_000\n",
    "    df_temp = df_temp.applymap(\n",
    "        lambda x: float(x.replace('Mil', '').strip()) * 1_000 if isinstance(x, str) and 'Mil' in x else x\n",
    "    )\n",
    "\n",
    "    # Retira 'M' e multiplica por 1_000_000\n",
    "    df_temp = df_temp.applymap(\n",
    "        lambda x: float(x.replace('M', '').strip()) * 1_000_000 if isinstance(x, str) and 'M' in x else x\n",
    "    )\n",
    "\n",
    "    # Retira 'B' e multiplica por 1_000_000\n",
    "    df_temp = df_temp.applymap(\n",
    "        lambda x: float(x.replace(' B', '').strip()) * 1_000_000_000 if isinstance(x, str) and ' B' in x else x\n",
    "    )\n",
    "\n",
    "    ## Variaveis globais EX: AGRO3_indicadores\n",
    "    globals()[csv + '_resultados'] = df_temp ## globals() Atribui variáveis ao espaço global. Dessa forma, cada CSV será carregado em uma variável separada, com o nome da variável sendo o nome do arquivo CSV.\n",
    "\n",
    "    ## Salvando o DataFrame tratado no destino\n",
    "    caminho_saida = f'{caminho_destino}\\\\{csv}_resultados_tratados.csv'\n",
    "    df_temp.to_csv(caminho_saida, index=False)  # Salva sem o índice adicional no CSV"
   ]
  },
  {
   "cell_type": "markdown",
   "id": "66ceb5d1",
   "metadata": {},
   "source": [
    "---"
   ]
  },
  {
   "cell_type": "markdown",
   "id": "677e65fc",
   "metadata": {},
   "source": [
    "# Estudos de Indicadores\n",
    "\n",
    "---"
   ]
  },
  {
   "cell_type": "markdown",
   "id": "64051be0",
   "metadata": {},
   "source": [
    "### 9. **PEG Multianual**\n",
    "\n",
    "#### Descrição\n",
    "Utiliza o crescimento médio de lucros ao longo de vários anos para suavizar variações de curto prazo, proporcionando uma análise mais estável do potencial da empresa.\n",
    "\n",
    "#### Fórmula\n",
    "\\[\n",
    "PL / CARG\n",
    "\\]\n",
    "\n",
    "- **P/L:** Relação entre o preço da ação e o lucro por ação.\n",
    "- **CAGR (Taxa de Crescimento Composta Anual):** Taxa média de crescimento anual dos lucros ao longo de um período (geralmente 3 a 5 anos).\n",
    "\n",
    "#### Quando Usar\n",
    "- Empresas com resultados voláteis, mas que apresentam um crescimento consistente ao longo do tempo.\n",
    "- Setores em que os lucros podem flutuar no curto prazo devido a fatores externos, como commodities ou tecnologia.\n",
    "\n",
    "#### Vantagens\n",
    "- Suaviza a volatilidade de curto prazo, dando uma visão mais clara do crescimento sustentável.\n",
    "- Útil para identificar empresas que conseguem crescer mesmo em períodos de adversidade.\n",
    "\n",
    "#### Limitações\n",
    "- Depende da disponibilidade de dados históricos confiáveis.\n",
    "- Pode não capturar mudanças recentes na trajetória de crescimento da empresa.\n",
    "\n",
    "#### Exemplo Prático\n",
    "Imagine uma empresa com:\n",
    "- **P/L:** 20\n",
    "- **CAGR dos Lucros (últimos 5 anos):** 10%\n",
    "\n",
    "O PEG Multianual seria:\n",
    "\\[\n",
    "PEG_{\\text{multianual}} = \\frac{20}{10} = 2\n",
    "\\]\n",
    "\n",
    "- Um PEG Multianual acima de 1 sugere que o preço da ação pode estar elevado em relação ao seu crescimento médio.\n"
   ]
  }
 ],
 "metadata": {
  "kernelspec": {
   "display_name": "Python 3",
   "language": "python",
   "name": "python3"
  },
  "language_info": {
   "codemirror_mode": {
    "name": "ipython",
    "version": 3
   },
   "file_extension": ".py",
   "mimetype": "text/x-python",
   "name": "python",
   "nbconvert_exporter": "python",
   "pygments_lexer": "ipython3",
   "version": "3.13.0"
  }
 },
 "nbformat": 4,
 "nbformat_minor": 5
}
