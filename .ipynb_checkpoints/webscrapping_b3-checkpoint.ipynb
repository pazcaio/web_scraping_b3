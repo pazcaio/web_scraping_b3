{
 "cells": [
  {
   "cell_type": "markdown",
   "id": "3e96e8f6-e8c1-4a4d-b17d-8c4080c19c4b",
   "metadata": {},
   "source": [
    "# Introdução\n",
    "\n",
    "A obtenção de dados em formato CSV por meio de páginas web representa uma etapa crucial em projetos que demandam informações estruturadas para análises e tomada de decisão. Quando tais dados estão disponíveis apenas em plataformas online, sem acesso direto por APIs, técnicas de **web scraping** emergem como soluções eficazes para sua extração.\n",
    "\n",
    "Neste contexto, a biblioteca **Selenium** é amplamente utilizada devido à sua capacidade de simular ações humanas em navegadores, como cliques, preenchimento de formulários e navegação entre páginas. Essa funcionalidade torna o Selenium uma ferramenta ideal para processos que envolvam múltiplas interações e a execução de etapas necessárias para acessar arquivos CSV disponibilizados online.\n",
    "\n",
    "O presente trabalho tem como foco o uso do Selenium para automatizar o processo de download de arquivos CSV a partir de páginas web que demandam interações sequenciais. A abordagem contempla:\n",
    "\n",
    "- **Preparação do ambiente e configuração do Selenium:** Estabelecendo os recursos necessários para o funcionamento da automação.\n",
    "- **Identificação e manipulação de elementos web:** Técnicas para localizar e interagir com componentes como botões de download, menus suspensos e caixas de seleção.\n",
    "- **Automatização do fluxo de extração:** Implementação de um processo iterativo e eficiente para acessar e baixar os arquivos CSV desejados.\n",
    "- **Organização dos arquivos baixados:** Estratégias para sistematizar o armazenamento e facilitar o uso dos dados em etapas posteriores.\n",
    "\n",
    "A relevância deste estudo está na aplicação prática do Selenium para superar barreiras frequentemente impostas por páginas dinâmicas ou interativas, oferecendo um método eficiente para a coleta de grandes volumes de dados. O trabalho, além de abordar aspectos técnicos, também enfatiza boas práticas no desenvolvimento de fluxos automatizados de web scraping.\n",
    "\n",
    "Com esta abordagem, espera-se fornecer aos leitores uma visão clara das etapas necessárias para realizar o download automatizado de arquivos CSV, contribuindo para a execução de projetos baseados em dados extraídos da web de forma acessível e sistemática.\n"
   ]
  },
  {
   "cell_type": "markdown",
   "id": "565d8f51-2013-4bfd-951c-7c4128b3001a",
   "metadata": {
    "jp-MarkdownHeadingCollapsed": true
   },
   "source": [
    "## Bibliotecas Utilizadas\n",
    "\n",
    "Para a execução do projeto, utilizamos um conjunto de bibliotecas que oferecem suporte às funcionalidades necessárias, com destaque para a automação de navegadores, manipulação de dados e organização do fluxo de trabalho. Abaixo estão as bibliotecas empregadas e suas respectivas finalidades:\n",
    "\n",
    "---\n",
    "\n",
    "### **1. Selenium**\n",
    "- **Descrição:** Biblioteca principal para automação de navegadores. Utilizada para realizar o web scraping, permitindo interações dinâmicas com páginas web.\n",
    "- **Instalação:**\n",
    "  ```bash\n",
    "  pip install selenium\n",
    "\n",
    "### **2. Pandas**\n",
    "- **Descrição:** Biblioteca para manipulação e análise de dados, amplamente utilizada no processamento de informações estruturadas.\n",
    "- **Instalação:**\n",
    "  ```bash\n",
    "  import pandas as pd\n"
   ]
  },
  {
   "cell_type": "code",
   "execution_count": 37,
   "id": "77bc842b-93e0-4df1-9888-49fd0aa9a180",
   "metadata": {},
   "outputs": [
    {
     "name": "stdout",
     "output_type": "stream",
     "text": [
      "Requirement already satisfied: pip in c:\\users\\caio tascano\\appdata\\local\\programs\\python\\python313\\lib\\site-packages (24.3.1)\n"
     ]
    }
   ],
   "source": [
    "!python -m pip install --upgrade pip\n",
    "!pip install -q selenium"
   ]
  },
  {
   "cell_type": "code",
   "execution_count": 40,
   "id": "5bcfa01f-b1e8-42da-83ce-3877cbf49251",
   "metadata": {},
   "outputs": [],
   "source": [
    "import pandas as pd\n",
    "import os\n",
    "import csv"
   ]
  },
  {
   "cell_type": "code",
   "execution_count": 39,
   "id": "fc443f3a-e341-4b0d-a19f-8f1d7817e19c",
   "metadata": {},
   "outputs": [],
   "source": [
    "from selenium import webdriver\n",
    "from selenium.webdriver.chrome.service import Service\n",
    "from selenium.webdriver.common.by import By"
   ]
  },
  {
   "cell_type": "markdown",
   "id": "56656955-4a9c-4a89-aff9-963f3456d895",
   "metadata": {
    "jp-MarkdownHeadingCollapsed": true
   },
   "source": [
    "## Funções Selenium:\n",
    "---\n",
    "### **1. `Service()`**\n",
    "- **Função:** Inicializa um objeto `Service`, que gerencia o processo do ChromeDriver.\n",
    "- **Uso:** O `Service` é utilizado para fornecer o caminho para o driver do Chrome, necessário para que o Selenium possa controlar o navegador.\n",
    "\n",
    "---\n",
    "### **2. `webdriver.ChromeOptions()`**\n",
    "- **Função:** Cria um objeto `ChromeOptions`, que permite configurar opções adicionais para o navegador Chrome, como abrir em modo headless (sem interface gráfica), desabilitar extensões, entre outras.\n",
    "- **Uso:** As opções são passadas ao `webdriver.Chrome()` para customizar o comportamento do navegador durante a automação.\n",
    "\n",
    "---\n",
    "### **3. `webdriver.Chrome()`**\n",
    "- **Função:** Inicializa o driver do Chrome, utilizando o `Service` e as `options` configuradas.\n",
    "- **Uso:** A linha cria uma instância do navegador Chrome com as configurações personalizadas (como o caminho do ChromeDriver e as opções de configuração do navegador).\n",
    "\n",
    "---\n",
    "### **4. `find_element()` e `find_elements()`**\n",
    "- **Descrição:** São funções utilizadas para localizar elementos no DOM da página.\n",
    "- **Diferencial:**\n",
    "  - `find_element`: Retorna o primeiro elemento correspondente ao critério de busca.\n",
    "  - `find_elements`: Retorna uma lista com todos os elementos correspondentes ao critério de busca.\n",
    "- **Aplicações:** Localizar botões, campos de texto, links e outros componentes da página.\n",
    "- **Exemplo:**\n",
    "  ```python\n",
    "  driver.find_element(By.ID, \"submit-button\")\n",
    "  driver.find_elements(By.CLASS_NAME, \"result-item\n",
    "\n",
    "---\n",
    "### **5. `get()`**\n",
    "- **Descrição:** O método `get()` é utilizado para navegar até uma URL específica no navegador automatizado, carregando a página solicitada.\n",
    "- **Uso:** Serve para acessar uma página web. O Selenium abrirá o navegador e aguardará até que a página seja completamente carregada antes de prosseguir com outras ações.\n",
    "- **Sintaxe:**\n",
    "  ```python\n",
    "  driver.get(\"URL\")\n",
    "\n",
    "---\n",
    "### **6. `click()`**\n",
    "- **Descrição:** O método `click()` é utilizado para simular o clique de um usuário em um elemento da página, como um botão ou link.\n",
    "- **Uso:** Permite interagir com elementos clicáveis na página, acionando eventos como submissões de formulários, navegação entre páginas ou ativação de menus.\n",
    "- **Sintaxe:**\n",
    "  ```python\n",
    "  elemento.click()"
   ]
  },
  {
   "cell_type": "code",
   "execution_count": 80,
   "id": "b6062ef3-5d9e-4cee-812f-14b168f3e436",
   "metadata": {},
   "outputs": [],
   "source": [
    "service = Service()\n",
    "\n",
    "options = webdriver.ChromeOptions()\n",
    "\n",
    "driver = webdriver.Chrome(service=service, options=options)"
   ]
  },
  {
   "cell_type": "markdown",
   "id": "28d5767d-8c8a-4f18-a707-81361b6949d6",
   "metadata": {},
   "source": [
    "## Funções Def\n",
    "\n",
    "---"
   ]
  },
  {
   "cell_type": "markdown",
   "id": "eb4a3bb5-4853-49b7-adbc-a621fcb9bde4",
   "metadata": {
    "jp-MarkdownHeadingCollapsed": true
   },
   "source": [
    "### Indicadores CSV"
   ]
  },
  {
   "cell_type": "code",
   "execution_count": 88,
   "id": "6f20e4b8-4fd4-453c-83ae-97f90c5b6d13",
   "metadata": {},
   "outputs": [],
   "source": [
    "## 1_ baixar os indicadores\n",
    "baixar_indicadores(todas) ## coloque a lista desejada"
   ]
  },
  {
   "cell_type": "code",
   "execution_count": 89,
   "id": "775a205c-9f4c-490e-8fd0-086d0010cbb4",
   "metadata": {},
   "outputs": [],
   "source": [
    "## 2_ Renomeia os indicadores\n",
    "renomear_indicadores(todas) ## coloque a lista desejada"
   ]
  },
  {
   "cell_type": "markdown",
   "id": "62160f52-e1ea-4279-82f7-9d4c2f42e077",
   "metadata": {
    "jp-MarkdownHeadingCollapsed": true
   },
   "source": [
    "### Def indicadores"
   ]
  },
  {
   "cell_type": "code",
   "execution_count": 57,
   "id": "fe049958-522e-48db-a0dc-48359df01825",
   "metadata": {},
   "outputs": [],
   "source": [
    "##Renomeando CSV de Indicadores\n",
    "def renomear_indicadores(x):\n",
    "    caminho = r'C:\\Users\\Caio Tascano\\Downloads'  # Caminho da pasta\n",
    "\n",
    "    # Nome do arquivo original\n",
    "    arquivo_original = 'indicadores.csv'\n",
    "    novo_nome = x[0] + '_indicadores.csv'\n",
    "\n",
    "    caminho_antigo = os.path.join(caminho, arquivo_original)\n",
    "    caminho_novo = os.path.join(caminho, novo_nome)\n",
    "\n",
    "    os.rename(caminho_antigo, caminho_novo)\n",
    "\n",
    "    # Iterando sobre a lista x\n",
    "    for i in range(1, len(x)):\n",
    "        # Nome do arquivo com base no índice\n",
    "        arquivo = f'indicadores ({i}).csv'  # Nome do arquivo original\n",
    "        \n",
    "        # Novo nome baseado na lista\n",
    "        novo_nome = x[i] + '_indicadores.csv'  # Novo nome da lista\n",
    "        \n",
    "        # Caminho completo dos arquivos antigos e novos\n",
    "        caminho_antigo = os.path.join(caminho, arquivo)\n",
    "        caminho_novo = os.path.join(caminho, novo_nome)\n",
    "        \n",
    "        # Renomeando o arquivo\n",
    "        os.rename(caminho_antigo, caminho_novo)\n",
    "\n",
    "##Baixando CSV de Indicadores\n",
    "def baixar_indicadores(x):\n",
    "    for codigos in x:\n",
    "        url = f'https://www.dadosdemercado.com.br/acoes/{codigos}' ## url da página\n",
    "        driver.get(url)\n",
    "        botao_csv = driver.find_elements(By.XPATH, \"//span[text()='Baixar em .csv']\") ## Guardando localizando dos botões da página \n",
    "        botao_csv[0].click()"
   ]
  },
  {
   "cell_type": "markdown",
   "id": "0732944d-9354-4320-a204-4727efea7dae",
   "metadata": {
    "jp-MarkdownHeadingCollapsed": true
   },
   "source": [
    "---\n",
    "\n",
    "### Resultados CSV"
   ]
  },
  {
   "cell_type": "code",
   "execution_count": 86,
   "id": "7bc9768f-e485-400c-8d12-441863d8f1ae",
   "metadata": {},
   "outputs": [],
   "source": [
    "## 1_ baixar os resultados\n",
    "baixar_resultados(todas) ## coloque a lista desejada"
   ]
  },
  {
   "cell_type": "code",
   "execution_count": 87,
   "id": "6a77e7bf-ad55-4470-9534-5fe78e90ac9f",
   "metadata": {},
   "outputs": [],
   "source": [
    "## 2_ Renomeia os resultados\n",
    "renomear_resultados(todas) ## coloque a lista desejada"
   ]
  },
  {
   "cell_type": "markdown",
   "id": "eedc3a34-9896-4f7e-84c4-475fbeed01dd",
   "metadata": {
    "jp-MarkdownHeadingCollapsed": true
   },
   "source": [
    "### Def resultados"
   ]
  },
  {
   "cell_type": "code",
   "execution_count": 62,
   "id": "fa2eced2-1bdc-4cd7-943f-f787d76d7c29",
   "metadata": {},
   "outputs": [],
   "source": [
    "##Renomeando CSV de Indicadores\n",
    "def renomear_resultados(x):\n",
    "    caminho = r'C:\\Users\\Caio Tascano\\Downloads'  # Caminho da pasta\n",
    "\n",
    "    # Nome do arquivo original\n",
    "    arquivo_original = 'resultados.csv'\n",
    "    novo_nome = x[0] + '_resultados.csv'\n",
    "\n",
    "    caminho_antigo = os.path.join(caminho, arquivo_original)\n",
    "    caminho_novo = os.path.join(caminho, novo_nome)\n",
    "\n",
    "    os.rename(caminho_antigo, caminho_novo)\n",
    "\n",
    "    # Iterando sobre a lista x\n",
    "    for i in range(1, len(x)):\n",
    "        # Nome do arquivo com base no índice\n",
    "        arquivo = f'resultados ({i}).csv'  # Nome do arquivo original\n",
    "        \n",
    "        # Novo nome baseado na lista\n",
    "        novo_nome = x[i] + '_resultados.csv'  # Novo nome da lista\n",
    "        \n",
    "        # Caminho completo dos arquivos antigos e novos\n",
    "        caminho_antigo = os.path.join(caminho, arquivo)\n",
    "        caminho_novo = os.path.join(caminho, novo_nome)\n",
    "        \n",
    "        # Renomeando o arquivo\n",
    "        os.rename(caminho_antigo, caminho_novo)\n",
    "\n",
    "##Baixando CSV de Indicadores\n",
    "def baixar_resultados(x):\n",
    "    for codigos in x:\n",
    "        url = f'https://www.dadosdemercado.com.br/acoes/{codigos}' ## url da página\n",
    "        driver.get(url)\n",
    "        botao_csv = driver.find_elements(By.XPATH, \"//span[text()='Baixar em .csv']\") ## Guardando localizando dos botões da página \n",
    "        botao_csv[2].click()"
   ]
  },
  {
   "cell_type": "markdown",
   "id": "256e28fa",
   "metadata": {},
   "source": [
    "---\n",
    "\n",
    "### Dividendos CSV"
   ]
  },
  {
   "cell_type": "code",
   "execution_count": null,
   "id": "cc21e54d",
   "metadata": {},
   "outputs": [],
   "source": [
    "baixar_dividendos(todas)"
   ]
  },
  {
   "cell_type": "markdown",
   "id": "875c1fa4",
   "metadata": {},
   "source": [
    "### Def dividendos"
   ]
  },
  {
   "cell_type": "code",
   "execution_count": 52,
   "id": "8fdac1c0",
   "metadata": {},
   "outputs": [],
   "source": [
    "def baixar_dividendos(x):\n",
    "    for codigo in x:\n",
    "        url = f'https://www.dadosdemercado.com.br/acoes/{codigo}/dividendos' ## url da página\n",
    "        driver.get(url)\n",
    "\n",
    "        # Localize a tabela que contém o <th>Ano</th> na primeira célula\n",
    "        table = driver.find_element(By.XPATH, '//table[thead//th[text()=\"Ano\"]]')\n",
    "\n",
    "        # Localize todas as linhas da tabela (excluindo o cabeçalho)\n",
    "        rows = table.find_elements(By.XPATH, './/tr')\n",
    "\n",
    "        # Lista para armazenar os dados da tabela\n",
    "        tabela_dados = []\n",
    "\n",
    "        # Itere pelas linhas e extraia as células (elementos <td>)\n",
    "        for row in rows:\n",
    "            cells = row.find_elements(By.TAG_NAME, 'td')\n",
    "            \n",
    "            # Verifique se há 4 células (ano, dividendos, cotação, DY)\n",
    "            if len(cells) == 4:\n",
    "                year = cells[0].text\n",
    "                dividend = cells[1].text\n",
    "                price = cells[2].text\n",
    "                dy = cells[3].text\n",
    "                \n",
    "                # Armazenar os valores em um dicionário\n",
    "                linha_dados = {\n",
    "                    \"Ano\": year,\n",
    "                    \"Dividendos\": dividend,\n",
    "                    \"Cotação\": price,\n",
    "                    \"DY\": dy\n",
    "                }\n",
    "                \n",
    "                # Adicionar o dicionário à lista\n",
    "                tabela_dados.append(linha_dados)\n",
    "\n",
    "            ## Salva como CSV na pasta\n",
    "            # Caminho da pasta onde o arquivo será salvo\n",
    "            caminho_pasta = r'C:\\Users\\Caio Tascano\\Desktop\\git_hub\\estudo_acoes\\dividendos_empresas'\n",
    "\n",
    "            # Nome do arquivo CSV\n",
    "            nome_arquivo = f\"{codigo}.csv\"\n",
    "\n",
    "            # Caminho completo do arquivo CSV\n",
    "            caminho_arquivo = os.path.join(caminho_pasta, nome_arquivo)\n",
    "\n",
    "            # Cabeçalhos para o CSV\n",
    "            cabecalhos = [\"Ano\", \"Dividendos\", \"Cotação\", \"DY\"]\n",
    "\n",
    "            # Abrir o arquivo para escrever\n",
    "            with open(caminho_arquivo, mode='w', newline='', encoding='utf-8') as file:\n",
    "                writer = csv.DictWriter(file, fieldnames=cabecalhos)\n",
    "                \n",
    "                # Escrever o cabeçalho\n",
    "                writer.writeheader()\n",
    "                \n",
    "                # Escrever os dados da tabela\n",
    "                writer.writerows(tabela_dados)\n",
    "\n",
    "            print(f\"Arquivo CSV salvo em: {caminho_arquivo}\")"
   ]
  },
  {
   "cell_type": "code",
   "execution_count": 30,
   "id": "bc1444c3",
   "metadata": {},
   "outputs": [
    {
     "data": {
      "text/plain": [
       "[{'Ano': '2025',\n",
       "  'Dividendos': '7,902438',\n",
       "  'Cotação': 'R$\\u202f36,68',\n",
       "  'DY': '21,54%'},\n",
       " {'Ano': '2024',\n",
       "  'Dividendos': '7,902438',\n",
       "  'Cotação': 'R$\\u202f36,19',\n",
       "  'DY': '21,84%'},\n",
       " {'Ano': '2023',\n",
       "  'Dividendos': '7,328299',\n",
       "  'Cotação': 'R$\\u202f37,24',\n",
       "  'DY': '19,68%'},\n",
       " {'Ano': '2022',\n",
       "  'Dividendos': '16,778586',\n",
       "  'Cotação': 'R$\\u202f24,50',\n",
       "  'DY': '68,48%'},\n",
       " {'Ano': '2021',\n",
       "  'Dividendos': '5,653232',\n",
       "  'Cotação': 'R$\\u202f28,45',\n",
       "  'DY': '19,87%'},\n",
       " {'Ano': '2020',\n",
       "  'Dividendos': '0,000449',\n",
       "  'Cotação': 'R$\\u202f28,34',\n",
       "  'DY': '0,00%'},\n",
       " {'Ano': '2019',\n",
       "  'Dividendos': '0,641436',\n",
       "  'Cotação': 'R$\\u202f30,18',\n",
       "  'DY': '2,13%'},\n",
       " {'Ano': '2018',\n",
       "  'Dividendos': '0,200000',\n",
       "  'Cotação': 'R$\\u202f22,68',\n",
       "  'DY': '0,88%'},\n",
       " {'Ano': '2014',\n",
       "  'Dividendos': '1,027970',\n",
       "  'Cotação': 'R$\\u202f10,02',\n",
       "  'DY': '10,26%'},\n",
       " {'Ano': '2012',\n",
       "  'Dividendos': '0,527100',\n",
       "  'Cotação': 'R$\\u202f19,52',\n",
       "  'DY': '2,70%'},\n",
       " {'Ano': '2011',\n",
       "  'Dividendos': '0,876900',\n",
       "  'Cotação': 'R$\\u202f21,49',\n",
       "  'DY': '4,08%'},\n",
       " {'Ano': '2010',\n",
       "  'Dividendos': '0,993400',\n",
       "  'Cotação': 'R$\\u202f27,29',\n",
       "  'DY': '3,64%'},\n",
       " {'Ano': '2009',\n",
       "  'Dividendos': '1,040400',\n",
       "  'Cotação': 'R$\\u202f36,69',\n",
       "  'DY': '2,84%'},\n",
       " {'Ano': '2008',\n",
       "  'Dividendos': '0,506200',\n",
       "  'Cotação': 'R$\\u202f22,84',\n",
       "  'DY': '2,22%'},\n",
       " {'Ano': '2007',\n",
       "  'Dividendos': '1,360600',\n",
       "  'Cotação': 'R$\\u202f88,40',\n",
       "  'DY': '1,54%'},\n",
       " {'Ano': '2006',\n",
       "  'Dividendos': '2,074800',\n",
       "  'Cotação': 'R$\\u202f49,80',\n",
       "  'DY': '4,17%'},\n",
       " {'Ano': '2005',\n",
       "  'Dividendos': '4,168200',\n",
       "  'Cotação': 'R$\\u202f37,21',\n",
       "  'DY': '11,20%'},\n",
       " {'Ano': '2004',\n",
       "  'Dividendos': '5,230000',\n",
       "  'Cotação': 'R$\\u202f97,15',\n",
       "  'DY': '5,38%'},\n",
       " {'Ano': '2003',\n",
       "  'Dividendos': '4,620000',\n",
       "  'Cotação': 'R$\\u202f76,40',\n",
       "  'DY': '6,05%'},\n",
       " {'Ano': '2002',\n",
       "  'Dividendos': '3,280000',\n",
       "  'Cotação': 'R$\\u202f46,40',\n",
       "  'DY': '7,07%'},\n",
       " {'Ano': '2001',\n",
       "  'Dividendos': '3,360000',\n",
       "  'Cotação': 'R$\\u202f51,15',\n",
       "  'DY': '6,57%'},\n",
       " {'Ano': '2000',\n",
       "  'Dividendos': '8,160000',\n",
       "  'Cotação': 'R$\\u202f45,78',\n",
       "  'DY': '17,82%'}]"
      ]
     },
     "execution_count": 30,
     "metadata": {},
     "output_type": "execute_result"
    }
   ],
   "source": [
    "tabela_dados"
   ]
  },
  {
   "cell_type": "code",
   "execution_count": 25,
   "id": "ab1e5aa1",
   "metadata": {},
   "outputs": [
    {
     "data": {
      "text/html": [
       "<div>\n",
       "<style scoped>\n",
       "    .dataframe tbody tr th:only-of-type {\n",
       "        vertical-align: middle;\n",
       "    }\n",
       "\n",
       "    .dataframe tbody tr th {\n",
       "        vertical-align: top;\n",
       "    }\n",
       "\n",
       "    .dataframe thead th {\n",
       "        text-align: right;\n",
       "    }\n",
       "</style>\n",
       "<table border=\"1\" class=\"dataframe\">\n",
       "  <thead>\n",
       "    <tr style=\"text-align: right;\">\n",
       "      <th></th>\n",
       "      <th>Ano</th>\n",
       "      <th>Dividendos</th>\n",
       "      <th>Cotação</th>\n",
       "      <th>DY</th>\n",
       "    </tr>\n",
       "  </thead>\n",
       "  <tbody>\n",
       "  </tbody>\n",
       "</table>\n",
       "</div>"
      ],
      "text/plain": [
       "Empty DataFrame\n",
       "Columns: [Ano, Dividendos, Cotação, DY]\n",
       "Index: []"
      ]
     },
     "execution_count": 25,
     "metadata": {},
     "output_type": "execute_result"
    }
   ],
   "source": []
  },
  {
   "cell_type": "markdown",
   "id": "96b08480-a52f-4319-bca4-6e1ee74d8f70",
   "metadata": {
    "jp-MarkdownHeadingCollapsed": true
   },
   "source": [
    "---\n",
    "\n",
    "## Listas com códigos das empresas:"
   ]
  },
  {
   "cell_type": "code",
   "execution_count": 106,
   "id": "455b70ea",
   "metadata": {},
   "outputs": [],
   "source": [
    "## variavel com todas as listas de códigos\n",
    "todas = acoes_ifnc + acoes_iee + acoes_saneamento + acoes_imat + acoes_agro"
   ]
  },
  {
   "cell_type": "markdown",
   "id": "5909212d-6c00-4153-9a69-fc823d27f967",
   "metadata": {
    "jp-MarkdownHeadingCollapsed": true
   },
   "source": [
    "### IFNC: Empresas financeiras "
   ]
  },
  {
   "cell_type": "code",
   "execution_count": 70,
   "id": "a9cf0cb4-f34b-4365-80ab-c76d4fa71730",
   "metadata": {},
   "outputs": [],
   "source": [
    "## lista criada pela IA Gemini -Financeiras\n",
    "acoes_ifnc = [\n",
    "    \"ABCB4\",  # Banco ABC Brasil\n",
    "    \"B3SA3\",  # B3\n",
    "    \"BBAS3\",  # Banco do Brasil\n",
    "    \"BBDC3\",  # Bradesco\n",
    "    \"BBDC4\",  # Bradesco\n",
    "    \"BBSE3\",  # BB Seguridade\n",
    "    \"BMGB4\",  # Banco BMG\n",
    "    \"BPAC11\", # BTG Pactual\n",
    "    \"BPAN4\",  # Banco Pan\n",
    "    \"BRSR6\", # Banrisul\n",
    "    \"ITSA4\",  # Itaúsa\n",
    "    \"ITUB3\",  # Itaú Unibanco\n",
    "    \"ITUB4\",  # Itaú Unibanco\n",
    "    \"SANB11\", # Santander Brasil\n",
    "    \"PSSA3\", # Porto Seguro\n",
    "    \"CIEL3\", # Cielo - *Pode ou não estar presente, verificar atualização*\n",
    "    \"IRBR3\", # IRB Brasil RE - *Pode ou não estar presente, verificar atualização*\n",
    "]"
   ]
  },
  {
   "cell_type": "markdown",
   "id": "476eb342-8dcb-4586-b432-071f94d316f3",
   "metadata": {
    "jp-MarkdownHeadingCollapsed": true
   },
   "source": [
    "### IEE: Empresas do setor eletrico"
   ]
  },
  {
   "cell_type": "code",
   "execution_count": 71,
   "id": "afc0dff0-2ce1-4b82-a63f-62475154ae50",
   "metadata": {},
   "outputs": [],
   "source": [
    "acoes_iee = [\n",
    "    \"AURE3\",  # Auren Energia\n",
    "    \"CEEB3\", # CEEE-GT\n",
    "    \"CEEB5\", # CEEE-GT\n",
    "    \"CLSC3\",  # Celesc\n",
    "    \"CMIG3\",  # Cemig\n",
    "    \"CMIG4\",  # Cemig\n",
    "    \"CPFE3\",  # CPFL Energia\n",
    "    \"CPLE3\",  # Copel\n",
    "    \"CPLE6\",  # Copel\n",
    "    \"EGIE3\",  # Engie Brasil\n",
    "    \"ELET3\",  # Eletrobras\n",
    "    \"ELET6\",  # Eletrobras\n",
    "    \"ENBR3\",  # Energias do Brasil (EDP Brasil)\n",
    "    \"EQTL3\",  # Equatorial Energia\n",
    "    \"NEOE3\", # Neoenergia\n",
    "    \"TAEE3\", # Taesa\n",
    "    \"TAEE4\", # Taesa\n",
    "    \"TAEE11\" # Taesa\n",
    "]"
   ]
  },
  {
   "cell_type": "markdown",
   "id": "a7f68e47-8213-4df3-bed1-b29f11081a25",
   "metadata": {
    "jp-MarkdownHeadingCollapsed": true
   },
   "source": [
    "### Saneamento: Empresas do setor de saneamento"
   ]
  },
  {
   "cell_type": "code",
   "execution_count": 82,
   "id": "c3a435c6-693d-4822-9fca-9724a0c97565",
   "metadata": {},
   "outputs": [],
   "source": [
    "acoes_saneamento = [\n",
    "    \"SBSP3\",  # Sabesp\n",
    "    \"SAPR3\",  # Sanepar\n",
    "    \"SAPR4\",  # Sanepar\n",
    "    \"SAPR11\", # Sanepar\n",
    "    \"CSMG3\",  # Copasa\n",
    "    \"AMBP3\",  # Ambipar\n",
    "    \"CASN3\" # Casan\n",
    "]"
   ]
  },
  {
   "cell_type": "markdown",
   "id": "3ce1278d-5699-4587-a7fd-5085e0b1f140",
   "metadata": {
    "jp-MarkdownHeadingCollapsed": true
   },
   "source": [
    "### IMAT - Empresa do setor de materiais"
   ]
  },
  {
   "cell_type": "code",
   "execution_count": 73,
   "id": "2cf17b01-82ae-483f-a8db-9a92de5b677d",
   "metadata": {},
   "outputs": [],
   "source": [
    "acoes_imat = [\n",
    "    \"BRAP3\", # BRADESPAR ON\n",
    "    \"BRAP4\", # BRADESPAR PN\n",
    "    \"BRKM5\", # BRASKEM PNA\n",
    "    \"CSNA3\", # CSN ON\n",
    "    \"GGBR4\", # GERDAU PN\n",
    "    \"GOAU4\", # GERDAU MET PN\n",
    "    \"KLBN11\", # KLABIN S/A UNT\n",
    "    \"USIM5\", # USIMINAS PNA\n",
    "    \"VALE3\", # VALE ON\n",
    "]"
   ]
  },
  {
   "cell_type": "markdown",
   "id": "6169d6ef-cd8a-4f2e-bf2f-ad4809165ad6",
   "metadata": {
    "jp-MarkdownHeadingCollapsed": true
   },
   "source": [
    "### Setor Agro"
   ]
  },
  {
   "cell_type": "code",
   "execution_count": 74,
   "id": "21d77df7-eeb2-4a6e-be7b-7b575fc061a7",
   "metadata": {},
   "outputs": [],
   "source": [
    "acoes_agro = [\n",
    "    \"AGRO3\", # BrasilAgro\n",
    "    \"SLCE3\", # SLC Agrícola\n",
    "    \"SMTO3\", # São Martinho\n",
    "    \"RAIZ4\", # Raízen\n",
    "    \"BEEF3\", # Minerva Foods\n",
    "    \"JBSS3\", # JBS\n",
    "    \"MRFG3\", # Marfrig Global Foods\n",
    "    \"BRFS3\", # BRF\n",
    "    \"TTEN3\", # 3tentos Agroindustrial\n",
    "]"
   ]
  },
  {
   "cell_type": "markdown",
   "id": "f0d5eca3-6827-41b1-a28d-43b4fb5c9e2a",
   "metadata": {
    "jp-MarkdownHeadingCollapsed": true
   },
   "source": [
    "---\n",
    "\n",
    "## Tratando os dados"
   ]
  },
  {
   "cell_type": "markdown",
   "id": "87b0ac99",
   "metadata": {},
   "source": [
    "### Limpando CSV dos indicadores e guardando em dicionário (df_indicadore)"
   ]
  },
  {
   "cell_type": "code",
   "execution_count": 226,
   "id": "4dbb9bb8-a63e-4d27-af1e-aa19d9f0ff72",
   "metadata": {},
   "outputs": [
    {
     "name": "stderr",
     "output_type": "stream",
     "text": [
      "C:\\Users\\Caio Tascano\\AppData\\Local\\Temp\\ipykernel_9760\\1986858439.py:13: FutureWarning: DataFrame.applymap has been deprecated. Use DataFrame.map instead.\n",
      "  df = df.applymap(lambda x: str(x).replace('\\n', '').replace(' ', '') if isinstance(x, str) else x)\n",
      "C:\\Users\\Caio Tascano\\AppData\\Local\\Temp\\ipykernel_9760\\1986858439.py:13: FutureWarning: DataFrame.applymap has been deprecated. Use DataFrame.map instead.\n",
      "  df = df.applymap(lambda x: str(x).replace('\\n', '').replace(' ', '') if isinstance(x, str) else x)\n",
      "C:\\Users\\Caio Tascano\\AppData\\Local\\Temp\\ipykernel_9760\\1986858439.py:13: FutureWarning: DataFrame.applymap has been deprecated. Use DataFrame.map instead.\n",
      "  df = df.applymap(lambda x: str(x).replace('\\n', '').replace(' ', '') if isinstance(x, str) else x)\n",
      "C:\\Users\\Caio Tascano\\AppData\\Local\\Temp\\ipykernel_9760\\1986858439.py:13: FutureWarning: DataFrame.applymap has been deprecated. Use DataFrame.map instead.\n",
      "  df = df.applymap(lambda x: str(x).replace('\\n', '').replace(' ', '') if isinstance(x, str) else x)\n",
      "C:\\Users\\Caio Tascano\\AppData\\Local\\Temp\\ipykernel_9760\\1986858439.py:13: FutureWarning: DataFrame.applymap has been deprecated. Use DataFrame.map instead.\n",
      "  df = df.applymap(lambda x: str(x).replace('\\n', '').replace(' ', '') if isinstance(x, str) else x)\n",
      "C:\\Users\\Caio Tascano\\AppData\\Local\\Temp\\ipykernel_9760\\1986858439.py:13: FutureWarning: DataFrame.applymap has been deprecated. Use DataFrame.map instead.\n",
      "  df = df.applymap(lambda x: str(x).replace('\\n', '').replace(' ', '') if isinstance(x, str) else x)\n",
      "C:\\Users\\Caio Tascano\\AppData\\Local\\Temp\\ipykernel_9760\\1986858439.py:13: FutureWarning: DataFrame.applymap has been deprecated. Use DataFrame.map instead.\n",
      "  df = df.applymap(lambda x: str(x).replace('\\n', '').replace(' ', '') if isinstance(x, str) else x)\n",
      "C:\\Users\\Caio Tascano\\AppData\\Local\\Temp\\ipykernel_9760\\1986858439.py:13: FutureWarning: DataFrame.applymap has been deprecated. Use DataFrame.map instead.\n",
      "  df = df.applymap(lambda x: str(x).replace('\\n', '').replace(' ', '') if isinstance(x, str) else x)\n",
      "C:\\Users\\Caio Tascano\\AppData\\Local\\Temp\\ipykernel_9760\\1986858439.py:13: FutureWarning: DataFrame.applymap has been deprecated. Use DataFrame.map instead.\n",
      "  df = df.applymap(lambda x: str(x).replace('\\n', '').replace(' ', '') if isinstance(x, str) else x)\n",
      "C:\\Users\\Caio Tascano\\AppData\\Local\\Temp\\ipykernel_9760\\1986858439.py:13: FutureWarning: DataFrame.applymap has been deprecated. Use DataFrame.map instead.\n",
      "  df = df.applymap(lambda x: str(x).replace('\\n', '').replace(' ', '') if isinstance(x, str) else x)\n",
      "C:\\Users\\Caio Tascano\\AppData\\Local\\Temp\\ipykernel_9760\\1986858439.py:13: FutureWarning: DataFrame.applymap has been deprecated. Use DataFrame.map instead.\n",
      "  df = df.applymap(lambda x: str(x).replace('\\n', '').replace(' ', '') if isinstance(x, str) else x)\n",
      "C:\\Users\\Caio Tascano\\AppData\\Local\\Temp\\ipykernel_9760\\1986858439.py:13: FutureWarning: DataFrame.applymap has been deprecated. Use DataFrame.map instead.\n",
      "  df = df.applymap(lambda x: str(x).replace('\\n', '').replace(' ', '') if isinstance(x, str) else x)\n",
      "C:\\Users\\Caio Tascano\\AppData\\Local\\Temp\\ipykernel_9760\\1986858439.py:13: FutureWarning: DataFrame.applymap has been deprecated. Use DataFrame.map instead.\n",
      "  df = df.applymap(lambda x: str(x).replace('\\n', '').replace(' ', '') if isinstance(x, str) else x)\n",
      "C:\\Users\\Caio Tascano\\AppData\\Local\\Temp\\ipykernel_9760\\1986858439.py:13: FutureWarning: DataFrame.applymap has been deprecated. Use DataFrame.map instead.\n",
      "  df = df.applymap(lambda x: str(x).replace('\\n', '').replace(' ', '') if isinstance(x, str) else x)\n",
      "C:\\Users\\Caio Tascano\\AppData\\Local\\Temp\\ipykernel_9760\\1986858439.py:13: FutureWarning: DataFrame.applymap has been deprecated. Use DataFrame.map instead.\n",
      "  df = df.applymap(lambda x: str(x).replace('\\n', '').replace(' ', '') if isinstance(x, str) else x)\n",
      "C:\\Users\\Caio Tascano\\AppData\\Local\\Temp\\ipykernel_9760\\1986858439.py:13: FutureWarning: DataFrame.applymap has been deprecated. Use DataFrame.map instead.\n",
      "  df = df.applymap(lambda x: str(x).replace('\\n', '').replace(' ', '') if isinstance(x, str) else x)\n",
      "C:\\Users\\Caio Tascano\\AppData\\Local\\Temp\\ipykernel_9760\\1986858439.py:13: FutureWarning: DataFrame.applymap has been deprecated. Use DataFrame.map instead.\n",
      "  df = df.applymap(lambda x: str(x).replace('\\n', '').replace(' ', '') if isinstance(x, str) else x)\n",
      "C:\\Users\\Caio Tascano\\AppData\\Local\\Temp\\ipykernel_9760\\1986858439.py:13: FutureWarning: DataFrame.applymap has been deprecated. Use DataFrame.map instead.\n",
      "  df = df.applymap(lambda x: str(x).replace('\\n', '').replace(' ', '') if isinstance(x, str) else x)\n",
      "C:\\Users\\Caio Tascano\\AppData\\Local\\Temp\\ipykernel_9760\\1986858439.py:13: FutureWarning: DataFrame.applymap has been deprecated. Use DataFrame.map instead.\n",
      "  df = df.applymap(lambda x: str(x).replace('\\n', '').replace(' ', '') if isinstance(x, str) else x)\n",
      "C:\\Users\\Caio Tascano\\AppData\\Local\\Temp\\ipykernel_9760\\1986858439.py:13: FutureWarning: DataFrame.applymap has been deprecated. Use DataFrame.map instead.\n",
      "  df = df.applymap(lambda x: str(x).replace('\\n', '').replace(' ', '') if isinstance(x, str) else x)\n",
      "C:\\Users\\Caio Tascano\\AppData\\Local\\Temp\\ipykernel_9760\\1986858439.py:13: FutureWarning: DataFrame.applymap has been deprecated. Use DataFrame.map instead.\n",
      "  df = df.applymap(lambda x: str(x).replace('\\n', '').replace(' ', '') if isinstance(x, str) else x)\n",
      "C:\\Users\\Caio Tascano\\AppData\\Local\\Temp\\ipykernel_9760\\1986858439.py:13: FutureWarning: DataFrame.applymap has been deprecated. Use DataFrame.map instead.\n",
      "  df = df.applymap(lambda x: str(x).replace('\\n', '').replace(' ', '') if isinstance(x, str) else x)\n",
      "C:\\Users\\Caio Tascano\\AppData\\Local\\Temp\\ipykernel_9760\\1986858439.py:13: FutureWarning: DataFrame.applymap has been deprecated. Use DataFrame.map instead.\n",
      "  df = df.applymap(lambda x: str(x).replace('\\n', '').replace(' ', '') if isinstance(x, str) else x)\n",
      "C:\\Users\\Caio Tascano\\AppData\\Local\\Temp\\ipykernel_9760\\1986858439.py:13: FutureWarning: DataFrame.applymap has been deprecated. Use DataFrame.map instead.\n",
      "  df = df.applymap(lambda x: str(x).replace('\\n', '').replace(' ', '') if isinstance(x, str) else x)\n",
      "C:\\Users\\Caio Tascano\\AppData\\Local\\Temp\\ipykernel_9760\\1986858439.py:13: FutureWarning: DataFrame.applymap has been deprecated. Use DataFrame.map instead.\n",
      "  df = df.applymap(lambda x: str(x).replace('\\n', '').replace(' ', '') if isinstance(x, str) else x)\n",
      "C:\\Users\\Caio Tascano\\AppData\\Local\\Temp\\ipykernel_9760\\1986858439.py:13: FutureWarning: DataFrame.applymap has been deprecated. Use DataFrame.map instead.\n",
      "  df = df.applymap(lambda x: str(x).replace('\\n', '').replace(' ', '') if isinstance(x, str) else x)\n",
      "C:\\Users\\Caio Tascano\\AppData\\Local\\Temp\\ipykernel_9760\\1986858439.py:13: FutureWarning: DataFrame.applymap has been deprecated. Use DataFrame.map instead.\n",
      "  df = df.applymap(lambda x: str(x).replace('\\n', '').replace(' ', '') if isinstance(x, str) else x)\n",
      "C:\\Users\\Caio Tascano\\AppData\\Local\\Temp\\ipykernel_9760\\1986858439.py:13: FutureWarning: DataFrame.applymap has been deprecated. Use DataFrame.map instead.\n",
      "  df = df.applymap(lambda x: str(x).replace('\\n', '').replace(' ', '') if isinstance(x, str) else x)\n",
      "C:\\Users\\Caio Tascano\\AppData\\Local\\Temp\\ipykernel_9760\\1986858439.py:13: FutureWarning: DataFrame.applymap has been deprecated. Use DataFrame.map instead.\n",
      "  df = df.applymap(lambda x: str(x).replace('\\n', '').replace(' ', '') if isinstance(x, str) else x)\n",
      "C:\\Users\\Caio Tascano\\AppData\\Local\\Temp\\ipykernel_9760\\1986858439.py:13: FutureWarning: DataFrame.applymap has been deprecated. Use DataFrame.map instead.\n",
      "  df = df.applymap(lambda x: str(x).replace('\\n', '').replace(' ', '') if isinstance(x, str) else x)\n",
      "C:\\Users\\Caio Tascano\\AppData\\Local\\Temp\\ipykernel_9760\\1986858439.py:13: FutureWarning: DataFrame.applymap has been deprecated. Use DataFrame.map instead.\n",
      "  df = df.applymap(lambda x: str(x).replace('\\n', '').replace(' ', '') if isinstance(x, str) else x)\n",
      "C:\\Users\\Caio Tascano\\AppData\\Local\\Temp\\ipykernel_9760\\1986858439.py:13: FutureWarning: DataFrame.applymap has been deprecated. Use DataFrame.map instead.\n",
      "  df = df.applymap(lambda x: str(x).replace('\\n', '').replace(' ', '') if isinstance(x, str) else x)\n",
      "C:\\Users\\Caio Tascano\\AppData\\Local\\Temp\\ipykernel_9760\\1986858439.py:13: FutureWarning: DataFrame.applymap has been deprecated. Use DataFrame.map instead.\n",
      "  df = df.applymap(lambda x: str(x).replace('\\n', '').replace(' ', '') if isinstance(x, str) else x)\n",
      "C:\\Users\\Caio Tascano\\AppData\\Local\\Temp\\ipykernel_9760\\1986858439.py:13: FutureWarning: DataFrame.applymap has been deprecated. Use DataFrame.map instead.\n",
      "  df = df.applymap(lambda x: str(x).replace('\\n', '').replace(' ', '') if isinstance(x, str) else x)\n",
      "C:\\Users\\Caio Tascano\\AppData\\Local\\Temp\\ipykernel_9760\\1986858439.py:13: FutureWarning: DataFrame.applymap has been deprecated. Use DataFrame.map instead.\n",
      "  df = df.applymap(lambda x: str(x).replace('\\n', '').replace(' ', '') if isinstance(x, str) else x)\n",
      "C:\\Users\\Caio Tascano\\AppData\\Local\\Temp\\ipykernel_9760\\1986858439.py:13: FutureWarning: DataFrame.applymap has been deprecated. Use DataFrame.map instead.\n",
      "  df = df.applymap(lambda x: str(x).replace('\\n', '').replace(' ', '') if isinstance(x, str) else x)\n",
      "C:\\Users\\Caio Tascano\\AppData\\Local\\Temp\\ipykernel_9760\\1986858439.py:13: FutureWarning: DataFrame.applymap has been deprecated. Use DataFrame.map instead.\n",
      "  df = df.applymap(lambda x: str(x).replace('\\n', '').replace(' ', '') if isinstance(x, str) else x)\n",
      "C:\\Users\\Caio Tascano\\AppData\\Local\\Temp\\ipykernel_9760\\1986858439.py:13: FutureWarning: DataFrame.applymap has been deprecated. Use DataFrame.map instead.\n",
      "  df = df.applymap(lambda x: str(x).replace('\\n', '').replace(' ', '') if isinstance(x, str) else x)\n",
      "C:\\Users\\Caio Tascano\\AppData\\Local\\Temp\\ipykernel_9760\\1986858439.py:13: FutureWarning: DataFrame.applymap has been deprecated. Use DataFrame.map instead.\n",
      "  df = df.applymap(lambda x: str(x).replace('\\n', '').replace(' ', '') if isinstance(x, str) else x)\n",
      "C:\\Users\\Caio Tascano\\AppData\\Local\\Temp\\ipykernel_9760\\1986858439.py:13: FutureWarning: DataFrame.applymap has been deprecated. Use DataFrame.map instead.\n",
      "  df = df.applymap(lambda x: str(x).replace('\\n', '').replace(' ', '') if isinstance(x, str) else x)\n",
      "C:\\Users\\Caio Tascano\\AppData\\Local\\Temp\\ipykernel_9760\\1986858439.py:13: FutureWarning: DataFrame.applymap has been deprecated. Use DataFrame.map instead.\n",
      "  df = df.applymap(lambda x: str(x).replace('\\n', '').replace(' ', '') if isinstance(x, str) else x)\n",
      "C:\\Users\\Caio Tascano\\AppData\\Local\\Temp\\ipykernel_9760\\1986858439.py:13: FutureWarning: DataFrame.applymap has been deprecated. Use DataFrame.map instead.\n",
      "  df = df.applymap(lambda x: str(x).replace('\\n', '').replace(' ', '') if isinstance(x, str) else x)\n",
      "C:\\Users\\Caio Tascano\\AppData\\Local\\Temp\\ipykernel_9760\\1986858439.py:13: FutureWarning: DataFrame.applymap has been deprecated. Use DataFrame.map instead.\n",
      "  df = df.applymap(lambda x: str(x).replace('\\n', '').replace(' ', '') if isinstance(x, str) else x)\n",
      "C:\\Users\\Caio Tascano\\AppData\\Local\\Temp\\ipykernel_9760\\1986858439.py:13: FutureWarning: DataFrame.applymap has been deprecated. Use DataFrame.map instead.\n",
      "  df = df.applymap(lambda x: str(x).replace('\\n', '').replace(' ', '') if isinstance(x, str) else x)\n",
      "C:\\Users\\Caio Tascano\\AppData\\Local\\Temp\\ipykernel_9760\\1986858439.py:13: FutureWarning: DataFrame.applymap has been deprecated. Use DataFrame.map instead.\n",
      "  df = df.applymap(lambda x: str(x).replace('\\n', '').replace(' ', '') if isinstance(x, str) else x)\n",
      "C:\\Users\\Caio Tascano\\AppData\\Local\\Temp\\ipykernel_9760\\1986858439.py:13: FutureWarning: DataFrame.applymap has been deprecated. Use DataFrame.map instead.\n",
      "  df = df.applymap(lambda x: str(x).replace('\\n', '').replace(' ', '') if isinstance(x, str) else x)\n",
      "C:\\Users\\Caio Tascano\\AppData\\Local\\Temp\\ipykernel_9760\\1986858439.py:13: FutureWarning: DataFrame.applymap has been deprecated. Use DataFrame.map instead.\n",
      "  df = df.applymap(lambda x: str(x).replace('\\n', '').replace(' ', '') if isinstance(x, str) else x)\n",
      "C:\\Users\\Caio Tascano\\AppData\\Local\\Temp\\ipykernel_9760\\1986858439.py:13: FutureWarning: DataFrame.applymap has been deprecated. Use DataFrame.map instead.\n",
      "  df = df.applymap(lambda x: str(x).replace('\\n', '').replace(' ', '') if isinstance(x, str) else x)\n",
      "C:\\Users\\Caio Tascano\\AppData\\Local\\Temp\\ipykernel_9760\\1986858439.py:13: FutureWarning: DataFrame.applymap has been deprecated. Use DataFrame.map instead.\n",
      "  df = df.applymap(lambda x: str(x).replace('\\n', '').replace(' ', '') if isinstance(x, str) else x)\n",
      "C:\\Users\\Caio Tascano\\AppData\\Local\\Temp\\ipykernel_9760\\1986858439.py:13: FutureWarning: DataFrame.applymap has been deprecated. Use DataFrame.map instead.\n",
      "  df = df.applymap(lambda x: str(x).replace('\\n', '').replace(' ', '') if isinstance(x, str) else x)\n",
      "C:\\Users\\Caio Tascano\\AppData\\Local\\Temp\\ipykernel_9760\\1986858439.py:13: FutureWarning: DataFrame.applymap has been deprecated. Use DataFrame.map instead.\n",
      "  df = df.applymap(lambda x: str(x).replace('\\n', '').replace(' ', '') if isinstance(x, str) else x)\n",
      "C:\\Users\\Caio Tascano\\AppData\\Local\\Temp\\ipykernel_9760\\1986858439.py:13: FutureWarning: DataFrame.applymap has been deprecated. Use DataFrame.map instead.\n",
      "  df = df.applymap(lambda x: str(x).replace('\\n', '').replace(' ', '') if isinstance(x, str) else x)\n",
      "C:\\Users\\Caio Tascano\\AppData\\Local\\Temp\\ipykernel_9760\\1986858439.py:13: FutureWarning: DataFrame.applymap has been deprecated. Use DataFrame.map instead.\n",
      "  df = df.applymap(lambda x: str(x).replace('\\n', '').replace(' ', '') if isinstance(x, str) else x)\n",
      "C:\\Users\\Caio Tascano\\AppData\\Local\\Temp\\ipykernel_9760\\1986858439.py:13: FutureWarning: DataFrame.applymap has been deprecated. Use DataFrame.map instead.\n",
      "  df = df.applymap(lambda x: str(x).replace('\\n', '').replace(' ', '') if isinstance(x, str) else x)\n",
      "C:\\Users\\Caio Tascano\\AppData\\Local\\Temp\\ipykernel_9760\\1986858439.py:13: FutureWarning: DataFrame.applymap has been deprecated. Use DataFrame.map instead.\n",
      "  df = df.applymap(lambda x: str(x).replace('\\n', '').replace(' ', '') if isinstance(x, str) else x)\n",
      "C:\\Users\\Caio Tascano\\AppData\\Local\\Temp\\ipykernel_9760\\1986858439.py:13: FutureWarning: DataFrame.applymap has been deprecated. Use DataFrame.map instead.\n",
      "  df = df.applymap(lambda x: str(x).replace('\\n', '').replace(' ', '') if isinstance(x, str) else x)\n",
      "C:\\Users\\Caio Tascano\\AppData\\Local\\Temp\\ipykernel_9760\\1986858439.py:13: FutureWarning: DataFrame.applymap has been deprecated. Use DataFrame.map instead.\n",
      "  df = df.applymap(lambda x: str(x).replace('\\n', '').replace(' ', '') if isinstance(x, str) else x)\n",
      "C:\\Users\\Caio Tascano\\AppData\\Local\\Temp\\ipykernel_9760\\1986858439.py:13: FutureWarning: DataFrame.applymap has been deprecated. Use DataFrame.map instead.\n",
      "  df = df.applymap(lambda x: str(x).replace('\\n', '').replace(' ', '') if isinstance(x, str) else x)\n",
      "C:\\Users\\Caio Tascano\\AppData\\Local\\Temp\\ipykernel_9760\\1986858439.py:13: FutureWarning: DataFrame.applymap has been deprecated. Use DataFrame.map instead.\n",
      "  df = df.applymap(lambda x: str(x).replace('\\n', '').replace(' ', '') if isinstance(x, str) else x)\n",
      "C:\\Users\\Caio Tascano\\AppData\\Local\\Temp\\ipykernel_9760\\1986858439.py:13: FutureWarning: DataFrame.applymap has been deprecated. Use DataFrame.map instead.\n",
      "  df = df.applymap(lambda x: str(x).replace('\\n', '').replace(' ', '') if isinstance(x, str) else x)\n"
     ]
    }
   ],
   "source": [
    "## DataFrame de df_indicadores\n",
    "df_indicadores = dict()\n",
    "\n",
    "# Iterar sobre todos os códigos de ações\n",
    "for cod_ind in todas:\n",
    "    # Caminho do arquivo CSV para cada código\n",
    "    arquivo_csv = f'C:\\\\Users\\\\Caio Tascano\\\\Desktop\\\\git_hub\\\\estudo_acoes\\\\indicadores_empresas\\\\{cod_ind}_indicadores.csv'\n",
    "\n",
    "    # Ler o arquivo CSV\n",
    "    df = pd.read_csv(arquivo_csv)\n",
    "\n",
    "    # Aplicar a limpeza nas células de string\n",
    "    df = df.applymap(lambda x: str(x).replace('\\n', '').replace(' ', '') if isinstance(x, str) else x)\n",
    "\n",
    "    df_indicadores[cod_ind] = df"
   ]
  },
  {
   "cell_type": "markdown",
   "id": "14c16715",
   "metadata": {},
   "source": [
    "### Limpando CSV dos resultados e guardando em dicionário (df_resultados)"
   ]
  },
  {
   "cell_type": "code",
   "execution_count": 227,
   "id": "f5d6753f",
   "metadata": {},
   "outputs": [
    {
     "name": "stderr",
     "output_type": "stream",
     "text": [
      "C:\\Users\\Caio Tascano\\AppData\\Local\\Temp\\ipykernel_9760\\3638379469.py:13: FutureWarning: DataFrame.applymap has been deprecated. Use DataFrame.map instead.\n",
      "  df = df.applymap(lambda x: str(x).replace('\\n', '').replace(' ', '') if isinstance(x, str) else x)\n",
      "C:\\Users\\Caio Tascano\\AppData\\Local\\Temp\\ipykernel_9760\\3638379469.py:13: FutureWarning: DataFrame.applymap has been deprecated. Use DataFrame.map instead.\n",
      "  df = df.applymap(lambda x: str(x).replace('\\n', '').replace(' ', '') if isinstance(x, str) else x)\n",
      "C:\\Users\\Caio Tascano\\AppData\\Local\\Temp\\ipykernel_9760\\3638379469.py:13: FutureWarning: DataFrame.applymap has been deprecated. Use DataFrame.map instead.\n",
      "  df = df.applymap(lambda x: str(x).replace('\\n', '').replace(' ', '') if isinstance(x, str) else x)\n",
      "C:\\Users\\Caio Tascano\\AppData\\Local\\Temp\\ipykernel_9760\\3638379469.py:13: FutureWarning: DataFrame.applymap has been deprecated. Use DataFrame.map instead.\n",
      "  df = df.applymap(lambda x: str(x).replace('\\n', '').replace(' ', '') if isinstance(x, str) else x)\n",
      "C:\\Users\\Caio Tascano\\AppData\\Local\\Temp\\ipykernel_9760\\3638379469.py:13: FutureWarning: DataFrame.applymap has been deprecated. Use DataFrame.map instead.\n",
      "  df = df.applymap(lambda x: str(x).replace('\\n', '').replace(' ', '') if isinstance(x, str) else x)\n",
      "C:\\Users\\Caio Tascano\\AppData\\Local\\Temp\\ipykernel_9760\\3638379469.py:13: FutureWarning: DataFrame.applymap has been deprecated. Use DataFrame.map instead.\n",
      "  df = df.applymap(lambda x: str(x).replace('\\n', '').replace(' ', '') if isinstance(x, str) else x)\n",
      "C:\\Users\\Caio Tascano\\AppData\\Local\\Temp\\ipykernel_9760\\3638379469.py:13: FutureWarning: DataFrame.applymap has been deprecated. Use DataFrame.map instead.\n",
      "  df = df.applymap(lambda x: str(x).replace('\\n', '').replace(' ', '') if isinstance(x, str) else x)\n",
      "C:\\Users\\Caio Tascano\\AppData\\Local\\Temp\\ipykernel_9760\\3638379469.py:13: FutureWarning: DataFrame.applymap has been deprecated. Use DataFrame.map instead.\n",
      "  df = df.applymap(lambda x: str(x).replace('\\n', '').replace(' ', '') if isinstance(x, str) else x)\n",
      "C:\\Users\\Caio Tascano\\AppData\\Local\\Temp\\ipykernel_9760\\3638379469.py:13: FutureWarning: DataFrame.applymap has been deprecated. Use DataFrame.map instead.\n",
      "  df = df.applymap(lambda x: str(x).replace('\\n', '').replace(' ', '') if isinstance(x, str) else x)\n",
      "C:\\Users\\Caio Tascano\\AppData\\Local\\Temp\\ipykernel_9760\\3638379469.py:13: FutureWarning: DataFrame.applymap has been deprecated. Use DataFrame.map instead.\n",
      "  df = df.applymap(lambda x: str(x).replace('\\n', '').replace(' ', '') if isinstance(x, str) else x)\n",
      "C:\\Users\\Caio Tascano\\AppData\\Local\\Temp\\ipykernel_9760\\3638379469.py:13: FutureWarning: DataFrame.applymap has been deprecated. Use DataFrame.map instead.\n",
      "  df = df.applymap(lambda x: str(x).replace('\\n', '').replace(' ', '') if isinstance(x, str) else x)\n",
      "C:\\Users\\Caio Tascano\\AppData\\Local\\Temp\\ipykernel_9760\\3638379469.py:13: FutureWarning: DataFrame.applymap has been deprecated. Use DataFrame.map instead.\n",
      "  df = df.applymap(lambda x: str(x).replace('\\n', '').replace(' ', '') if isinstance(x, str) else x)\n",
      "C:\\Users\\Caio Tascano\\AppData\\Local\\Temp\\ipykernel_9760\\3638379469.py:13: FutureWarning: DataFrame.applymap has been deprecated. Use DataFrame.map instead.\n",
      "  df = df.applymap(lambda x: str(x).replace('\\n', '').replace(' ', '') if isinstance(x, str) else x)\n",
      "C:\\Users\\Caio Tascano\\AppData\\Local\\Temp\\ipykernel_9760\\3638379469.py:13: FutureWarning: DataFrame.applymap has been deprecated. Use DataFrame.map instead.\n",
      "  df = df.applymap(lambda x: str(x).replace('\\n', '').replace(' ', '') if isinstance(x, str) else x)\n",
      "C:\\Users\\Caio Tascano\\AppData\\Local\\Temp\\ipykernel_9760\\3638379469.py:13: FutureWarning: DataFrame.applymap has been deprecated. Use DataFrame.map instead.\n",
      "  df = df.applymap(lambda x: str(x).replace('\\n', '').replace(' ', '') if isinstance(x, str) else x)\n",
      "C:\\Users\\Caio Tascano\\AppData\\Local\\Temp\\ipykernel_9760\\3638379469.py:13: FutureWarning: DataFrame.applymap has been deprecated. Use DataFrame.map instead.\n",
      "  df = df.applymap(lambda x: str(x).replace('\\n', '').replace(' ', '') if isinstance(x, str) else x)\n",
      "C:\\Users\\Caio Tascano\\AppData\\Local\\Temp\\ipykernel_9760\\3638379469.py:13: FutureWarning: DataFrame.applymap has been deprecated. Use DataFrame.map instead.\n",
      "  df = df.applymap(lambda x: str(x).replace('\\n', '').replace(' ', '') if isinstance(x, str) else x)\n",
      "C:\\Users\\Caio Tascano\\AppData\\Local\\Temp\\ipykernel_9760\\3638379469.py:13: FutureWarning: DataFrame.applymap has been deprecated. Use DataFrame.map instead.\n",
      "  df = df.applymap(lambda x: str(x).replace('\\n', '').replace(' ', '') if isinstance(x, str) else x)\n",
      "C:\\Users\\Caio Tascano\\AppData\\Local\\Temp\\ipykernel_9760\\3638379469.py:13: FutureWarning: DataFrame.applymap has been deprecated. Use DataFrame.map instead.\n",
      "  df = df.applymap(lambda x: str(x).replace('\\n', '').replace(' ', '') if isinstance(x, str) else x)\n",
      "C:\\Users\\Caio Tascano\\AppData\\Local\\Temp\\ipykernel_9760\\3638379469.py:13: FutureWarning: DataFrame.applymap has been deprecated. Use DataFrame.map instead.\n",
      "  df = df.applymap(lambda x: str(x).replace('\\n', '').replace(' ', '') if isinstance(x, str) else x)\n",
      "C:\\Users\\Caio Tascano\\AppData\\Local\\Temp\\ipykernel_9760\\3638379469.py:13: FutureWarning: DataFrame.applymap has been deprecated. Use DataFrame.map instead.\n",
      "  df = df.applymap(lambda x: str(x).replace('\\n', '').replace(' ', '') if isinstance(x, str) else x)\n",
      "C:\\Users\\Caio Tascano\\AppData\\Local\\Temp\\ipykernel_9760\\3638379469.py:13: FutureWarning: DataFrame.applymap has been deprecated. Use DataFrame.map instead.\n",
      "  df = df.applymap(lambda x: str(x).replace('\\n', '').replace(' ', '') if isinstance(x, str) else x)\n",
      "C:\\Users\\Caio Tascano\\AppData\\Local\\Temp\\ipykernel_9760\\3638379469.py:13: FutureWarning: DataFrame.applymap has been deprecated. Use DataFrame.map instead.\n",
      "  df = df.applymap(lambda x: str(x).replace('\\n', '').replace(' ', '') if isinstance(x, str) else x)\n",
      "C:\\Users\\Caio Tascano\\AppData\\Local\\Temp\\ipykernel_9760\\3638379469.py:13: FutureWarning: DataFrame.applymap has been deprecated. Use DataFrame.map instead.\n",
      "  df = df.applymap(lambda x: str(x).replace('\\n', '').replace(' ', '') if isinstance(x, str) else x)\n",
      "C:\\Users\\Caio Tascano\\AppData\\Local\\Temp\\ipykernel_9760\\3638379469.py:13: FutureWarning: DataFrame.applymap has been deprecated. Use DataFrame.map instead.\n",
      "  df = df.applymap(lambda x: str(x).replace('\\n', '').replace(' ', '') if isinstance(x, str) else x)\n",
      "C:\\Users\\Caio Tascano\\AppData\\Local\\Temp\\ipykernel_9760\\3638379469.py:13: FutureWarning: DataFrame.applymap has been deprecated. Use DataFrame.map instead.\n",
      "  df = df.applymap(lambda x: str(x).replace('\\n', '').replace(' ', '') if isinstance(x, str) else x)\n",
      "C:\\Users\\Caio Tascano\\AppData\\Local\\Temp\\ipykernel_9760\\3638379469.py:13: FutureWarning: DataFrame.applymap has been deprecated. Use DataFrame.map instead.\n",
      "  df = df.applymap(lambda x: str(x).replace('\\n', '').replace(' ', '') if isinstance(x, str) else x)\n",
      "C:\\Users\\Caio Tascano\\AppData\\Local\\Temp\\ipykernel_9760\\3638379469.py:13: FutureWarning: DataFrame.applymap has been deprecated. Use DataFrame.map instead.\n",
      "  df = df.applymap(lambda x: str(x).replace('\\n', '').replace(' ', '') if isinstance(x, str) else x)\n",
      "C:\\Users\\Caio Tascano\\AppData\\Local\\Temp\\ipykernel_9760\\3638379469.py:13: FutureWarning: DataFrame.applymap has been deprecated. Use DataFrame.map instead.\n",
      "  df = df.applymap(lambda x: str(x).replace('\\n', '').replace(' ', '') if isinstance(x, str) else x)\n",
      "C:\\Users\\Caio Tascano\\AppData\\Local\\Temp\\ipykernel_9760\\3638379469.py:13: FutureWarning: DataFrame.applymap has been deprecated. Use DataFrame.map instead.\n",
      "  df = df.applymap(lambda x: str(x).replace('\\n', '').replace(' ', '') if isinstance(x, str) else x)\n",
      "C:\\Users\\Caio Tascano\\AppData\\Local\\Temp\\ipykernel_9760\\3638379469.py:13: FutureWarning: DataFrame.applymap has been deprecated. Use DataFrame.map instead.\n",
      "  df = df.applymap(lambda x: str(x).replace('\\n', '').replace(' ', '') if isinstance(x, str) else x)\n",
      "C:\\Users\\Caio Tascano\\AppData\\Local\\Temp\\ipykernel_9760\\3638379469.py:13: FutureWarning: DataFrame.applymap has been deprecated. Use DataFrame.map instead.\n",
      "  df = df.applymap(lambda x: str(x).replace('\\n', '').replace(' ', '') if isinstance(x, str) else x)\n",
      "C:\\Users\\Caio Tascano\\AppData\\Local\\Temp\\ipykernel_9760\\3638379469.py:13: FutureWarning: DataFrame.applymap has been deprecated. Use DataFrame.map instead.\n",
      "  df = df.applymap(lambda x: str(x).replace('\\n', '').replace(' ', '') if isinstance(x, str) else x)\n",
      "C:\\Users\\Caio Tascano\\AppData\\Local\\Temp\\ipykernel_9760\\3638379469.py:13: FutureWarning: DataFrame.applymap has been deprecated. Use DataFrame.map instead.\n",
      "  df = df.applymap(lambda x: str(x).replace('\\n', '').replace(' ', '') if isinstance(x, str) else x)\n",
      "C:\\Users\\Caio Tascano\\AppData\\Local\\Temp\\ipykernel_9760\\3638379469.py:13: FutureWarning: DataFrame.applymap has been deprecated. Use DataFrame.map instead.\n",
      "  df = df.applymap(lambda x: str(x).replace('\\n', '').replace(' ', '') if isinstance(x, str) else x)\n",
      "C:\\Users\\Caio Tascano\\AppData\\Local\\Temp\\ipykernel_9760\\3638379469.py:13: FutureWarning: DataFrame.applymap has been deprecated. Use DataFrame.map instead.\n",
      "  df = df.applymap(lambda x: str(x).replace('\\n', '').replace(' ', '') if isinstance(x, str) else x)\n",
      "C:\\Users\\Caio Tascano\\AppData\\Local\\Temp\\ipykernel_9760\\3638379469.py:13: FutureWarning: DataFrame.applymap has been deprecated. Use DataFrame.map instead.\n",
      "  df = df.applymap(lambda x: str(x).replace('\\n', '').replace(' ', '') if isinstance(x, str) else x)\n",
      "C:\\Users\\Caio Tascano\\AppData\\Local\\Temp\\ipykernel_9760\\3638379469.py:13: FutureWarning: DataFrame.applymap has been deprecated. Use DataFrame.map instead.\n",
      "  df = df.applymap(lambda x: str(x).replace('\\n', '').replace(' ', '') if isinstance(x, str) else x)\n",
      "C:\\Users\\Caio Tascano\\AppData\\Local\\Temp\\ipykernel_9760\\3638379469.py:13: FutureWarning: DataFrame.applymap has been deprecated. Use DataFrame.map instead.\n",
      "  df = df.applymap(lambda x: str(x).replace('\\n', '').replace(' ', '') if isinstance(x, str) else x)\n",
      "C:\\Users\\Caio Tascano\\AppData\\Local\\Temp\\ipykernel_9760\\3638379469.py:13: FutureWarning: DataFrame.applymap has been deprecated. Use DataFrame.map instead.\n",
      "  df = df.applymap(lambda x: str(x).replace('\\n', '').replace(' ', '') if isinstance(x, str) else x)\n",
      "C:\\Users\\Caio Tascano\\AppData\\Local\\Temp\\ipykernel_9760\\3638379469.py:13: FutureWarning: DataFrame.applymap has been deprecated. Use DataFrame.map instead.\n",
      "  df = df.applymap(lambda x: str(x).replace('\\n', '').replace(' ', '') if isinstance(x, str) else x)\n",
      "C:\\Users\\Caio Tascano\\AppData\\Local\\Temp\\ipykernel_9760\\3638379469.py:13: FutureWarning: DataFrame.applymap has been deprecated. Use DataFrame.map instead.\n",
      "  df = df.applymap(lambda x: str(x).replace('\\n', '').replace(' ', '') if isinstance(x, str) else x)\n",
      "C:\\Users\\Caio Tascano\\AppData\\Local\\Temp\\ipykernel_9760\\3638379469.py:13: FutureWarning: DataFrame.applymap has been deprecated. Use DataFrame.map instead.\n",
      "  df = df.applymap(lambda x: str(x).replace('\\n', '').replace(' ', '') if isinstance(x, str) else x)\n",
      "C:\\Users\\Caio Tascano\\AppData\\Local\\Temp\\ipykernel_9760\\3638379469.py:13: FutureWarning: DataFrame.applymap has been deprecated. Use DataFrame.map instead.\n",
      "  df = df.applymap(lambda x: str(x).replace('\\n', '').replace(' ', '') if isinstance(x, str) else x)\n",
      "C:\\Users\\Caio Tascano\\AppData\\Local\\Temp\\ipykernel_9760\\3638379469.py:13: FutureWarning: DataFrame.applymap has been deprecated. Use DataFrame.map instead.\n",
      "  df = df.applymap(lambda x: str(x).replace('\\n', '').replace(' ', '') if isinstance(x, str) else x)\n",
      "C:\\Users\\Caio Tascano\\AppData\\Local\\Temp\\ipykernel_9760\\3638379469.py:13: FutureWarning: DataFrame.applymap has been deprecated. Use DataFrame.map instead.\n",
      "  df = df.applymap(lambda x: str(x).replace('\\n', '').replace(' ', '') if isinstance(x, str) else x)\n",
      "C:\\Users\\Caio Tascano\\AppData\\Local\\Temp\\ipykernel_9760\\3638379469.py:13: FutureWarning: DataFrame.applymap has been deprecated. Use DataFrame.map instead.\n",
      "  df = df.applymap(lambda x: str(x).replace('\\n', '').replace(' ', '') if isinstance(x, str) else x)\n",
      "C:\\Users\\Caio Tascano\\AppData\\Local\\Temp\\ipykernel_9760\\3638379469.py:13: FutureWarning: DataFrame.applymap has been deprecated. Use DataFrame.map instead.\n",
      "  df = df.applymap(lambda x: str(x).replace('\\n', '').replace(' ', '') if isinstance(x, str) else x)\n",
      "C:\\Users\\Caio Tascano\\AppData\\Local\\Temp\\ipykernel_9760\\3638379469.py:13: FutureWarning: DataFrame.applymap has been deprecated. Use DataFrame.map instead.\n",
      "  df = df.applymap(lambda x: str(x).replace('\\n', '').replace(' ', '') if isinstance(x, str) else x)\n",
      "C:\\Users\\Caio Tascano\\AppData\\Local\\Temp\\ipykernel_9760\\3638379469.py:13: FutureWarning: DataFrame.applymap has been deprecated. Use DataFrame.map instead.\n",
      "  df = df.applymap(lambda x: str(x).replace('\\n', '').replace(' ', '') if isinstance(x, str) else x)\n",
      "C:\\Users\\Caio Tascano\\AppData\\Local\\Temp\\ipykernel_9760\\3638379469.py:13: FutureWarning: DataFrame.applymap has been deprecated. Use DataFrame.map instead.\n",
      "  df = df.applymap(lambda x: str(x).replace('\\n', '').replace(' ', '') if isinstance(x, str) else x)\n",
      "C:\\Users\\Caio Tascano\\AppData\\Local\\Temp\\ipykernel_9760\\3638379469.py:13: FutureWarning: DataFrame.applymap has been deprecated. Use DataFrame.map instead.\n",
      "  df = df.applymap(lambda x: str(x).replace('\\n', '').replace(' ', '') if isinstance(x, str) else x)\n",
      "C:\\Users\\Caio Tascano\\AppData\\Local\\Temp\\ipykernel_9760\\3638379469.py:13: FutureWarning: DataFrame.applymap has been deprecated. Use DataFrame.map instead.\n",
      "  df = df.applymap(lambda x: str(x).replace('\\n', '').replace(' ', '') if isinstance(x, str) else x)\n",
      "C:\\Users\\Caio Tascano\\AppData\\Local\\Temp\\ipykernel_9760\\3638379469.py:13: FutureWarning: DataFrame.applymap has been deprecated. Use DataFrame.map instead.\n",
      "  df = df.applymap(lambda x: str(x).replace('\\n', '').replace(' ', '') if isinstance(x, str) else x)\n",
      "C:\\Users\\Caio Tascano\\AppData\\Local\\Temp\\ipykernel_9760\\3638379469.py:13: FutureWarning: DataFrame.applymap has been deprecated. Use DataFrame.map instead.\n",
      "  df = df.applymap(lambda x: str(x).replace('\\n', '').replace(' ', '') if isinstance(x, str) else x)\n",
      "C:\\Users\\Caio Tascano\\AppData\\Local\\Temp\\ipykernel_9760\\3638379469.py:13: FutureWarning: DataFrame.applymap has been deprecated. Use DataFrame.map instead.\n",
      "  df = df.applymap(lambda x: str(x).replace('\\n', '').replace(' ', '') if isinstance(x, str) else x)\n",
      "C:\\Users\\Caio Tascano\\AppData\\Local\\Temp\\ipykernel_9760\\3638379469.py:13: FutureWarning: DataFrame.applymap has been deprecated. Use DataFrame.map instead.\n",
      "  df = df.applymap(lambda x: str(x).replace('\\n', '').replace(' ', '') if isinstance(x, str) else x)\n",
      "C:\\Users\\Caio Tascano\\AppData\\Local\\Temp\\ipykernel_9760\\3638379469.py:13: FutureWarning: DataFrame.applymap has been deprecated. Use DataFrame.map instead.\n",
      "  df = df.applymap(lambda x: str(x).replace('\\n', '').replace(' ', '') if isinstance(x, str) else x)\n",
      "C:\\Users\\Caio Tascano\\AppData\\Local\\Temp\\ipykernel_9760\\3638379469.py:13: FutureWarning: DataFrame.applymap has been deprecated. Use DataFrame.map instead.\n",
      "  df = df.applymap(lambda x: str(x).replace('\\n', '').replace(' ', '') if isinstance(x, str) else x)\n",
      "C:\\Users\\Caio Tascano\\AppData\\Local\\Temp\\ipykernel_9760\\3638379469.py:13: FutureWarning: DataFrame.applymap has been deprecated. Use DataFrame.map instead.\n",
      "  df = df.applymap(lambda x: str(x).replace('\\n', '').replace(' ', '') if isinstance(x, str) else x)\n"
     ]
    }
   ],
   "source": [
    "## DataFrame de df_resultados\n",
    "df_resultados = dict()\n",
    "\n",
    "# Iterar sobre todos os códigos de ações\n",
    "for cod_ind in todas:\n",
    "    # Caminho do arquivo CSV para cada código\n",
    "    arquivo_csv = f'C:\\\\Users\\\\Caio Tascano\\\\Desktop\\\\git_hub\\\\estudo_acoes\\\\resultados_empresas\\\\{cod_ind}_resultados.csv'\n",
    "\n",
    "    # Ler o arquivo CSV\n",
    "    df = pd.read_csv(arquivo_csv)\n",
    "\n",
    "    # Aplicar a limpeza nas células de string\n",
    "    df = df.applymap(lambda x: str(x).replace('\\n', '').replace(' ', '') if isinstance(x, str) else x)\n",
    "\n",
    "    df_resultados[cod_ind] = df"
   ]
  },
  {
   "cell_type": "markdown",
   "id": "41251451",
   "metadata": {},
   "source": [
    "---"
   ]
  },
  {
   "cell_type": "markdown",
   "id": "9e34fd9e",
   "metadata": {},
   "source": [
    "### Substituindo em todos o valores ',' por '.'"
   ]
  },
  {
   "cell_type": "code",
   "execution_count": 228,
   "id": "76295271-a734-4a5f-ba9c-67ebe1efa81b",
   "metadata": {},
   "outputs": [
    {
     "name": "stderr",
     "output_type": "stream",
     "text": [
      "C:\\Users\\Caio Tascano\\AppData\\Local\\Temp\\ipykernel_9760\\347592164.py:3: FutureWarning: DataFrame.applymap has been deprecated. Use DataFrame.map instead.\n",
      "  df_resultados[chave_res] = df_resultados[chave_res].applymap(lambda x: str(x).replace('.', '').replace(',', '.'))\n",
      "C:\\Users\\Caio Tascano\\AppData\\Local\\Temp\\ipykernel_9760\\347592164.py:6: FutureWarning: DataFrame.applymap has been deprecated. Use DataFrame.map instead.\n",
      "  df_indicadores[chave_ind] = df_indicadores[chave_ind].applymap(lambda x: str(x).replace('.', '').replace(',', '.'))\n"
     ]
    }
   ],
   "source": [
    "## Aplicando looping no dicionário junto com o applymap para substituir . e ,\n",
    "for chave_res in df_resultados:\n",
    "    df_resultados[chave_res] = df_resultados[chave_res].applymap(lambda x: str(x).replace('.', '').replace(',', '.'))\n",
    "\n",
    "for chave_ind in df_indicadores:\n",
    "    df_indicadores[chave_ind] = df_indicadores[chave_ind].applymap(lambda x: str(x).replace('.', '').replace(',', '.'))"
   ]
  },
  {
   "cell_type": "code",
   "execution_count": 238,
   "id": "e395952b",
   "metadata": {},
   "outputs": [
    {
     "name": "stderr",
     "output_type": "stream",
     "text": [
      "C:\\Users\\Caio Tascano\\AppData\\Local\\Temp\\ipykernel_9760\\3558714116.py:2: FutureWarning: DataFrame.applymap has been deprecated. Use DataFrame.map instead.\n",
      "  df_resultados['AGRO3'] = df_resultados['AGRO3'].applymap(lambda x: str(x).replace('il', ''))\n"
     ]
    }
   ],
   "source": [
    "## Transformando o valores com M em milhões\n",
    "df_resultados['AGRO3'] = df_resultados['AGRO3'].applymap(lambda x: str(x).replace('il', ''))"
   ]
  },
  {
   "cell_type": "code",
   "execution_count": 254,
   "id": "bd909b81",
   "metadata": {},
   "outputs": [
    {
     "data": {
      "text/plain": [
       "0     506.04\n",
       "1    -226.57\n",
       "2     279.47\n",
       "3     -38.15\n",
       "4     241.32\n",
       "5     -36.65\n",
       "6     204.67\n",
       "7      28.18\n",
       "8     232.85\n",
       "9       0.00\n",
       "10    232.85\n",
       "11      0.00\n",
       "12      0.00\n",
       "Name: 2T2024, dtype: float64"
      ]
     },
     "execution_count": 254,
     "metadata": {},
     "output_type": "execute_result"
    }
   ],
   "source": [
    "df_resultados['AGRO3'].T.iloc[2].apply(lambda x: float(str(x)))"
   ]
  },
  {
   "cell_type": "code",
   "execution_count": 241,
   "id": "2db2e67d",
   "metadata": {},
   "outputs": [
    {
     "data": {
      "text/plain": [
       "str"
      ]
     },
     "execution_count": 241,
     "metadata": {},
     "output_type": "execute_result"
    }
   ],
   "source": [
    "type(df_resultados['AGRO3'].iloc[0,5])"
   ]
  },
  {
   "cell_type": "code",
   "execution_count": 158,
   "id": "92d8a316",
   "metadata": {},
   "outputs": [],
   "source": [
    "def converter_para_float(valor):\n",
    "    if isinstance(valor, str):\n",
    "        # Remove o ponto (.) de milhar e substitui a vírgula (,) por ponto (.)\n",
    "        valor = valor.replace('.', '').replace(',', '.')\n",
    "        return float(valor)\n",
    "    return valor"
   ]
  },
  {
   "cell_type": "markdown",
   "id": "d9de620d-0714-4db9-9d8d-ced3cfc2a201",
   "metadata": {},
   "source": [
    "Remoção do Sufixo:\n",
    "\n",
    "A função verifica se o valor contém o sufixo \"mi\".\n",
    "Se sim, remove o sufixo e o espaço invisível ( ).\n",
    "Substituição de Vírgula por Ponto:\n",
    "\n",
    "A vírgula é substituída por um ponto para converter o número corretamente.\n",
    "Multiplicação por 1 Milhão:\n",
    "\n",
    "O número limpo é convertido para um float e multiplicado por 1 milhão."
   ]
  },
  {
   "cell_type": "code",
   "execution_count": null,
   "id": "812b31ad-f542-4c37-89bb-303d1473d0e9",
   "metadata": {},
   "outputs": [],
   "source": [
    "def tratar_milhoes(valor):\n",
    "    if isinstance(valor, str) and 'mi' in valor:\n",
    "        # Remover sufixo e espaço invisível, substituir vírgula por ponto\n",
    "        valor = valor.replace('mi', '').replace(' ', '').replace(',', '.')\n",
    "        return float(valor) * 1_000_000\n",
    "    return valor"
   ]
  },
  {
   "cell_type": "code",
   "execution_count": null,
   "id": "36b706c6-29ce-49e1-8644-6c9f05a5a6f3",
   "metadata": {},
   "outputs": [],
   "source": []
  },
  {
   "cell_type": "code",
   "execution_count": null,
   "id": "f5ec5f15-d4f3-4b9f-b93b-673342f18ec3",
   "metadata": {},
   "outputs": [],
   "source": []
  }
 ],
 "metadata": {
  "kernelspec": {
   "display_name": "Python 3",
   "language": "python",
   "name": "python3"
  },
  "language_info": {
   "codemirror_mode": {
    "name": "ipython",
    "version": 3
   },
   "file_extension": ".py",
   "mimetype": "text/x-python",
   "name": "python",
   "nbconvert_exporter": "python",
   "pygments_lexer": "ipython3",
   "version": "3.13.0"
  }
 },
 "nbformat": 4,
 "nbformat_minor": 5
}
